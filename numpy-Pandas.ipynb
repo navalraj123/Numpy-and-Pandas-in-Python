{
  "metadata": {
    "colab": {
      "collapsed_sections": [],
      "name": "7. Python 101 - Python Libraries for Data Analysis - Numpy Solution.ipynb",
      "provenance": []
    },
    "kernelspec": {
      "name": "python",
      "display_name": "Pyolite",
      "language": "python"
    },
    "language_info": {
      "codemirror_mode": {
        "name": "python",
        "version": 3
      },
      "file_extension": ".py",
      "mimetype": "text/x-python",
      "name": "python",
      "nbconvert_exporter": "python",
      "pygments_lexer": "ipython3",
      "version": "3.8"
    }
  },
  "nbformat_minor": 4,
  "nbformat": 4,
  "cells": [
    {
      "cell_type": "markdown",
      "source": "# TASK #1: DEFINE SINGLE AND MULTI-DIMENSIONAL  NUMPY ARRAYS",
      "metadata": {
        "colab_type": "text",
        "id": "f7yOpaRM5IbG"
      }
    },
    {
      "cell_type": "code",
      "source": "# NumPy is a Linear Algebra Library used for multidimensional arrays\n# NumPy brings the best of two worlds: (1) C/Fortran computational efficiency, (2) Python language easy syntax \n\nimport numpy as np\n\n# Let's define a one-dimensional array \n\nlist_1 = [20,30,40,50,60,80,100,200,300,500,600]\nlist_1",
      "metadata": {
        "colab": {
          "base_uri": "https://localhost:8080/",
          "height": 34
        },
        "colab_type": "code",
        "executionInfo": {
          "elapsed": 525,
          "status": "ok",
          "timestamp": 1598026431247,
          "user": {
            "displayName": "Stemplicity",
            "photoUrl": "https://lh3.googleusercontent.com/a-/AOh14Gj2vCFt-bD5mPBhUWX0QA6xiBgoXQXtwUm2jgjaCg=s64",
            "userId": "10668071569687886186"
          },
          "user_tz": 240
        },
        "id": "Bqk10u47qEmJ",
        "outputId": "6d0f8ddd-fcf1-4ca2-9531-cdd013622565"
      },
      "execution_count": 1,
      "outputs": [
        {
          "execution_count": 1,
          "output_type": "execute_result",
          "data": {
            "text/plain": [
              "[20, 30, 40, 50, 60, 80, 100, 200, 300, 500, 600]"
            ]
          },
          "metadata": {}
        }
      ]
    },
    {
      "cell_type": "code",
      "source": "# Let's create a numpy array from the list \"my_list\"\nnp_array = np.array(list_1)\nnp_array",
      "metadata": {
        "colab": {
          "base_uri": "https://localhost:8080/",
          "height": 34
        },
        "colab_type": "code",
        "executionInfo": {
          "elapsed": 476,
          "status": "ok",
          "timestamp": 1598026434403,
          "user": {
            "displayName": "Stemplicity",
            "photoUrl": "https://lh3.googleusercontent.com/a-/AOh14Gj2vCFt-bD5mPBhUWX0QA6xiBgoXQXtwUm2jgjaCg=s64",
            "userId": "10668071569687886186"
          },
          "user_tz": 240
        },
        "id": "b98d-lkK5NbQ",
        "outputId": "29441c2a-7312-40ab-b879-3768dfc9f581"
      },
      "execution_count": 2,
      "outputs": [
        {
          "execution_count": 2,
          "output_type": "execute_result",
          "data": {
            "text/plain": [
              "array([ 20,  30,  40,  50,  60,  80, 100, 200, 300, 500, 600])"
            ]
          },
          "metadata": {}
        }
      ]
    },
    {
      "cell_type": "code",
      "source": "type(np_array)",
      "metadata": {
        "colab": {
          "base_uri": "https://localhost:8080/",
          "height": 34
        },
        "colab_type": "code",
        "executionInfo": {
          "elapsed": 433,
          "status": "ok",
          "timestamp": 1598026452462,
          "user": {
            "displayName": "Stemplicity",
            "photoUrl": "https://lh3.googleusercontent.com/a-/AOh14Gj2vCFt-bD5mPBhUWX0QA6xiBgoXQXtwUm2jgjaCg=s64",
            "userId": "10668071569687886186"
          },
          "user_tz": 240
        },
        "id": "tljNDWBw5Nf9",
        "outputId": "5171039b-3bfe-4796-dfc7-5db17eb2cc2e"
      },
      "execution_count": 3,
      "outputs": [
        {
          "execution_count": 3,
          "output_type": "execute_result",
          "data": {
            "text/plain": [
              "numpy.ndarray"
            ]
          },
          "metadata": {}
        }
      ]
    },
    {
      "cell_type": "code",
      "source": "# Multi-dimensional (Matrix definition) \nmd_array = np.array([ [2,4,6], [1,3,5] ])\nmd_array",
      "metadata": {
        "colab": {
          "base_uri": "https://localhost:8080/",
          "height": 50
        },
        "colab_type": "code",
        "executionInfo": {
          "elapsed": 482,
          "status": "ok",
          "timestamp": 1598026468861,
          "user": {
            "displayName": "Stemplicity",
            "photoUrl": "https://lh3.googleusercontent.com/a-/AOh14Gj2vCFt-bD5mPBhUWX0QA6xiBgoXQXtwUm2jgjaCg=s64",
            "userId": "10668071569687886186"
          },
          "user_tz": 240
        },
        "id": "wpiZ25fZ5NiN",
        "outputId": "c7d16231-d02d-4908-9d84-1236b8c202b8"
      },
      "execution_count": 4,
      "outputs": [
        {
          "execution_count": 4,
          "output_type": "execute_result",
          "data": {
            "text/plain": [
              "array([[2, 4, 6],\n",
              "       [1, 3, 5]])"
            ]
          },
          "metadata": {}
        }
      ]
    },
    {
      "cell_type": "markdown",
      "source": "MINI CHALLENGE #1: \n- Write a code that creates the following 2x4 numpy array\n\n```\n[[3 7 9 3] \n[4 3 2 2]]\n```",
      "metadata": {
        "colab_type": "text",
        "id": "tmB_S-JfHZRL"
      }
    },
    {
      "cell_type": "code",
      "source": " x = np.array([ [3,7,9,3], [4,3,2,2] ])\nx",
      "metadata": {
        "colab": {},
        "colab_type": "code",
        "id": "Nabjzl1oKtGX"
      },
      "execution_count": 5,
      "outputs": [
        {
          "execution_count": 5,
          "output_type": "execute_result",
          "data": {
            "text/plain": [
              "array([[3, 7, 9, 3],\n",
              "       [4, 3, 2, 2]])"
            ]
          },
          "metadata": {}
        }
      ]
    },
    {
      "cell_type": "markdown",
      "source": "# TASK #2: LEVERAGE NUMPY BUILT-IN METHODS AND FUNCTIONS ",
      "metadata": {
        "colab_type": "text",
        "id": "uBuqdDQM6Qd9"
      }
    },
    {
      "cell_type": "code",
      "source": "# \"rand()\" uniform distribution between 0 and 1\nx = np.random.rand(20)\nx",
      "metadata": {
        "colab": {
          "base_uri": "https://localhost:8080/",
          "height": 67
        },
        "colab_type": "code",
        "executionInfo": {
          "elapsed": 475,
          "status": "ok",
          "timestamp": 1598026506288,
          "user": {
            "displayName": "Stemplicity",
            "photoUrl": "https://lh3.googleusercontent.com/a-/AOh14Gj2vCFt-bD5mPBhUWX0QA6xiBgoXQXtwUm2jgjaCg=s64",
            "userId": "10668071569687886186"
          },
          "user_tz": 240
        },
        "id": "yXQV-Nrg5No3",
        "outputId": "5237733f-68da-43a1-a25c-3671274bfd1a"
      },
      "execution_count": 6,
      "outputs": [
        {
          "execution_count": 6,
          "output_type": "execute_result",
          "data": {
            "text/plain": [
              "array([0.81248303, 0.19469715, 0.41119338, 0.73972225, 0.69190094,\n",
              "       0.6894148 , 0.70697066, 0.27559382, 0.5024894 , 0.06215011,\n",
              "       0.31911296, 0.43210718, 0.61615519, 0.93706611, 0.40143477,\n",
              "       0.09917885, 0.98603207, 0.0814482 , 0.32048842, 0.61630198])"
            ]
          },
          "metadata": {}
        }
      ]
    },
    {
      "cell_type": "code",
      "source": "# you can create a matrix of random number as well\nx = np.random.rand(3,3)\nx",
      "metadata": {
        "colab": {
          "base_uri": "https://localhost:8080/",
          "height": 101
        },
        "colab_type": "code",
        "executionInfo": {
          "elapsed": 439,
          "status": "ok",
          "timestamp": 1598026560564,
          "user": {
            "displayName": "Stemplicity",
            "photoUrl": "https://lh3.googleusercontent.com/a-/AOh14Gj2vCFt-bD5mPBhUWX0QA6xiBgoXQXtwUm2jgjaCg=s64",
            "userId": "10668071569687886186"
          },
          "user_tz": 240
        },
        "id": "PpJUCdB15NkT",
        "outputId": "c89e0cb1-e897-4ae6-c96b-1563c658c20f"
      },
      "execution_count": 7,
      "outputs": [
        {
          "execution_count": 7,
          "output_type": "execute_result",
          "data": {
            "text/plain": [
              "array([[0.77307665, 0.40170866, 0.92325108],\n",
              "       [0.23396614, 0.13820172, 0.89715469],\n",
              "       [0.28146557, 0.4224085 , 0.246581  ]])"
            ]
          },
          "metadata": {}
        }
      ]
    },
    {
      "cell_type": "code",
      "source": "# \"randint\" is used to generate random integers between upper and lower bounds\nx = np.random.randint(1,20)\nx\n",
      "metadata": {
        "colab": {
          "base_uri": "https://localhost:8080/",
          "height": 34
        },
        "colab_type": "code",
        "executionInfo": {
          "elapsed": 413,
          "status": "ok",
          "timestamp": 1598026584111,
          "user": {
            "displayName": "Stemplicity",
            "photoUrl": "https://lh3.googleusercontent.com/a-/AOh14Gj2vCFt-bD5mPBhUWX0QA6xiBgoXQXtwUm2jgjaCg=s64",
            "userId": "10668071569687886186"
          },
          "user_tz": 240
        },
        "id": "RBcU5xgb6YL0",
        "outputId": "c5bf0eeb-44f7-4d01-dfaf-9d3ef21a0c31"
      },
      "execution_count": 8,
      "outputs": [
        {
          "execution_count": 8,
          "output_type": "execute_result",
          "data": {
            "text/plain": [
              "8"
            ]
          },
          "metadata": {}
        }
      ]
    },
    {
      "cell_type": "code",
      "source": "# \"randint\" can be used to generate a certain number of random itegers as follows\nx = np.random.randint(1,100,15)\nx",
      "metadata": {
        "colab": {
          "base_uri": "https://localhost:8080/",
          "height": 34
        },
        "colab_type": "code",
        "executionInfo": {
          "elapsed": 360,
          "status": "ok",
          "timestamp": 1598026643201,
          "user": {
            "displayName": "Stemplicity",
            "photoUrl": "https://lh3.googleusercontent.com/a-/AOh14Gj2vCFt-bD5mPBhUWX0QA6xiBgoXQXtwUm2jgjaCg=s64",
            "userId": "10668071569687886186"
          },
          "user_tz": 240
        },
        "id": "O3JdVtvo6YP7",
        "outputId": "ff2a258d-6e98-4383-a10e-a3a1325ea5b2"
      },
      "execution_count": 9,
      "outputs": [
        {
          "execution_count": 9,
          "output_type": "execute_result",
          "data": {
            "text/plain": [
              "array([18, 27, 26, 85, 92, 47, 98, 49, 31, 29, 10, 20, 65, 94, 83])"
            ]
          },
          "metadata": {}
        }
      ]
    },
    {
      "cell_type": "code",
      "source": "# np.arange creates an evenly spaced values within a given interval\nx = np.arange(1,50)\nx",
      "metadata": {
        "colab": {
          "base_uri": "https://localhost:8080/",
          "height": 67
        },
        "colab_type": "code",
        "executionInfo": {
          "elapsed": 463,
          "status": "ok",
          "timestamp": 1598026648633,
          "user": {
            "displayName": "Stemplicity",
            "photoUrl": "https://lh3.googleusercontent.com/a-/AOh14Gj2vCFt-bD5mPBhUWX0QA6xiBgoXQXtwUm2jgjaCg=s64",
            "userId": "10668071569687886186"
          },
          "user_tz": 240
        },
        "id": "EOOLMB416YUh",
        "outputId": "bb0d4be7-1ed0-44e8-80bb-a139d2bceb71"
      },
      "execution_count": 10,
      "outputs": [
        {
          "execution_count": 10,
          "output_type": "execute_result",
          "data": {
            "text/plain": [
              "array([ 1,  2,  3,  4,  5,  6,  7,  8,  9, 10, 11, 12, 13, 14, 15, 16, 17,\n",
              "       18, 19, 20, 21, 22, 23, 24, 25, 26, 27, 28, 29, 30, 31, 32, 33, 34,\n",
              "       35, 36, 37, 38, 39, 40, 41, 42, 43, 44, 45, 46, 47, 48, 49])"
            ]
          },
          "metadata": {}
        }
      ]
    },
    {
      "cell_type": "code",
      "source": "# create a diagonal of ones and zeros everywhere else\nx = np.eye(7)\nx",
      "metadata": {
        "colab": {
          "base_uri": "https://localhost:8080/",
          "height": 101
        },
        "colab_type": "code",
        "executionInfo": {
          "elapsed": 428,
          "status": "ok",
          "timestamp": 1598026659940,
          "user": {
            "displayName": "Stemplicity",
            "photoUrl": "https://lh3.googleusercontent.com/a-/AOh14Gj2vCFt-bD5mPBhUWX0QA6xiBgoXQXtwUm2jgjaCg=s64",
            "userId": "10668071569687886186"
          },
          "user_tz": 240
        },
        "id": "sft1flaM6YXF",
        "outputId": "4d82d2af-0943-4e05-92f4-112a4ab078d1"
      },
      "execution_count": 11,
      "outputs": [
        {
          "execution_count": 11,
          "output_type": "execute_result",
          "data": {
            "text/plain": [
              "array([[1., 0., 0., 0., 0., 0., 0.],\n",
              "       [0., 1., 0., 0., 0., 0., 0.],\n",
              "       [0., 0., 1., 0., 0., 0., 0.],\n",
              "       [0., 0., 0., 1., 0., 0., 0.],\n",
              "       [0., 0., 0., 0., 1., 0., 0.],\n",
              "       [0., 0., 0., 0., 0., 1., 0.],\n",
              "       [0., 0., 0., 0., 0., 0., 1.]])"
            ]
          },
          "metadata": {}
        }
      ]
    },
    {
      "cell_type": "code",
      "source": "# Matrix of ones\nx = np.ones((5,5))\nx",
      "metadata": {
        "colab": {
          "base_uri": "https://localhost:8080/",
          "height": 269
        },
        "colab_type": "code",
        "executionInfo": {
          "elapsed": 429,
          "status": "ok",
          "timestamp": 1598026673247,
          "user": {
            "displayName": "Stemplicity",
            "photoUrl": "https://lh3.googleusercontent.com/a-/AOh14Gj2vCFt-bD5mPBhUWX0QA6xiBgoXQXtwUm2jgjaCg=s64",
            "userId": "10668071569687886186"
          },
          "user_tz": 240
        },
        "id": "VQ8fp8Qb6feB",
        "outputId": "d030f2cb-6339-4d2a-8ea0-467f02dfb2b6"
      },
      "execution_count": 12,
      "outputs": [
        {
          "execution_count": 12,
          "output_type": "execute_result",
          "data": {
            "text/plain": [
              "array([[1., 1., 1., 1., 1.],\n",
              "       [1., 1., 1., 1., 1.],\n",
              "       [1., 1., 1., 1., 1.],\n",
              "       [1., 1., 1., 1., 1.],\n",
              "       [1., 1., 1., 1., 1.]])"
            ]
          },
          "metadata": {}
        }
      ]
    },
    {
      "cell_type": "code",
      "source": "# Array of zeros\nx = np.zeros((4,3))\nx",
      "metadata": {
        "colab": {
          "base_uri": "https://localhost:8080/",
          "height": 67
        },
        "colab_type": "code",
        "executionInfo": {
          "elapsed": 234,
          "status": "ok",
          "timestamp": 1598026680567,
          "user": {
            "displayName": "Stemplicity",
            "photoUrl": "https://lh3.googleusercontent.com/a-/AOh14Gj2vCFt-bD5mPBhUWX0QA6xiBgoXQXtwUm2jgjaCg=s64",
            "userId": "10668071569687886186"
          },
          "user_tz": 240
        },
        "id": "TTROXKYo6YSn",
        "outputId": "ba7288e2-2ed5-411d-da07-0f7f3c315bac"
      },
      "execution_count": 13,
      "outputs": [
        {
          "execution_count": 13,
          "output_type": "execute_result",
          "data": {
            "text/plain": [
              "array([[0., 0., 0.],\n",
              "       [0., 0., 0.],\n",
              "       [0., 0., 0.],\n",
              "       [0., 0., 0.]])"
            ]
          },
          "metadata": {}
        }
      ]
    },
    {
      "cell_type": "markdown",
      "source": "MINI CHALLENGE #2:\n- Write a code that takes in a positive integer \"x\" from the user and creates a 1x10 array with random numbers ranging from 0 to \"x\"",
      "metadata": {
        "colab_type": "text",
        "id": "IGiQ87EjKzh-"
      }
    },
    {
      "cell_type": "code",
      "source": "x = int(input('Enter a positive number'))\ny = np.random.randint(1,x,10)\ny",
      "metadata": {
        "colab": {},
        "colab_type": "code",
        "id": "xg1mPZKKML5j"
      },
      "execution_count": 14,
      "outputs": [
        {
          "name": "stdout",
          "output_type": "stream",
          "text": "Enter a positive number45\n"
        },
        {
          "execution_count": 14,
          "output_type": "execute_result",
          "data": {
            "text/plain": [
              "array([31,  9, 14, 14, 33, 33, 38, 24, 36, 30])"
            ]
          },
          "metadata": {}
        }
      ]
    },
    {
      "cell_type": "markdown",
      "source": "# TASK #3: PERFORM MATHEMATICAL OPERATIONS IN NUMPY",
      "metadata": {
        "colab_type": "text",
        "id": "VRyk_VYQArV3"
      }
    },
    {
      "cell_type": "code",
      "source": "# np.arange() returns an evenly spaced values within a given interval\nx = np.arange(1,10)\nx",
      "metadata": {
        "colab": {
          "base_uri": "https://localhost:8080/",
          "height": 34
        },
        "colab_type": "code",
        "executionInfo": {
          "elapsed": 599,
          "status": "ok",
          "timestamp": 1598027357814,
          "user": {
            "displayName": "Stemplicity",
            "photoUrl": "https://lh3.googleusercontent.com/a-/AOh14Gj2vCFt-bD5mPBhUWX0QA6xiBgoXQXtwUm2jgjaCg=s64",
            "userId": "10668071569687886186"
          },
          "user_tz": 240
        },
        "id": "vm-gmaQG-Vvd",
        "outputId": "27258be3-3de6-4679-9dbf-b972d368c2a6"
      },
      "execution_count": 15,
      "outputs": [
        {
          "execution_count": 15,
          "output_type": "execute_result",
          "data": {
            "text/plain": [
              "array([1, 2, 3, 4, 5, 6, 7, 8, 9])"
            ]
          },
          "metadata": {}
        }
      ]
    },
    {
      "cell_type": "code",
      "source": "y = np.arange(1,10)\ny",
      "metadata": {
        "colab": {
          "base_uri": "https://localhost:8080/",
          "height": 34
        },
        "colab_type": "code",
        "executionInfo": {
          "elapsed": 420,
          "status": "ok",
          "timestamp": 1598027388921,
          "user": {
            "displayName": "Stemplicity",
            "photoUrl": "https://lh3.googleusercontent.com/a-/AOh14Gj2vCFt-bD5mPBhUWX0QA6xiBgoXQXtwUm2jgjaCg=s64",
            "userId": "10668071569687886186"
          },
          "user_tz": 240
        },
        "id": "yzC5WGBIAzNk",
        "outputId": "f484313b-7eb0-4b53-a809-7114b418a332"
      },
      "execution_count": 16,
      "outputs": [
        {
          "execution_count": 16,
          "output_type": "execute_result",
          "data": {
            "text/plain": [
              "array([1, 2, 3, 4, 5, 6, 7, 8, 9])"
            ]
          },
          "metadata": {}
        }
      ]
    },
    {
      "cell_type": "code",
      "source": "# Add 2 numpy arrays together\nsum = x+y\nsum",
      "metadata": {
        "colab": {
          "base_uri": "https://localhost:8080/",
          "height": 34
        },
        "colab_type": "code",
        "executionInfo": {
          "elapsed": 426,
          "status": "ok",
          "timestamp": 1598027414005,
          "user": {
            "displayName": "Stemplicity",
            "photoUrl": "https://lh3.googleusercontent.com/a-/AOh14Gj2vCFt-bD5mPBhUWX0QA6xiBgoXQXtwUm2jgjaCg=s64",
            "userId": "10668071569687886186"
          },
          "user_tz": 240
        },
        "id": "ED0OSzpw2p9R",
        "outputId": "ab08c55e-5fb6-4701-cccc-69676029603f"
      },
      "execution_count": 17,
      "outputs": [
        {
          "execution_count": 17,
          "output_type": "execute_result",
          "data": {
            "text/plain": [
              "array([ 2,  4,  6,  8, 10, 12, 14, 16, 18])"
            ]
          },
          "metadata": {}
        }
      ]
    },
    {
      "cell_type": "code",
      "source": "sqr = x**2\nsqr",
      "metadata": {
        "colab": {
          "base_uri": "https://localhost:8080/",
          "height": 34
        },
        "colab_type": "code",
        "executionInfo": {
          "elapsed": 409,
          "status": "ok",
          "timestamp": 1598027429464,
          "user": {
            "displayName": "Stemplicity",
            "photoUrl": "https://lh3.googleusercontent.com/a-/AOh14Gj2vCFt-bD5mPBhUWX0QA6xiBgoXQXtwUm2jgjaCg=s64",
            "userId": "10668071569687886186"
          },
          "user_tz": 240
        },
        "id": "TH6xTJcuAzK-",
        "outputId": "5953a19a-6d59-4c71-9f9f-d5e9350900a5"
      },
      "execution_count": 18,
      "outputs": [
        {
          "execution_count": 18,
          "output_type": "execute_result",
          "data": {
            "text/plain": [
              "array([ 1,  4,  9, 16, 25, 36, 49, 64, 81], dtype=int32)"
            ]
          },
          "metadata": {}
        }
      ]
    },
    {
      "cell_type": "code",
      "source": "sqrt = np.sqrt(sqr)\nsqrt",
      "metadata": {
        "colab": {
          "base_uri": "https://localhost:8080/",
          "height": 34
        },
        "colab_type": "code",
        "executionInfo": {
          "elapsed": 490,
          "status": "ok",
          "timestamp": 1598027449631,
          "user": {
            "displayName": "Stemplicity",
            "photoUrl": "https://lh3.googleusercontent.com/a-/AOh14Gj2vCFt-bD5mPBhUWX0QA6xiBgoXQXtwUm2jgjaCg=s64",
            "userId": "10668071569687886186"
          },
          "user_tz": 240
        },
        "id": "A0T25q5bAzIw",
        "outputId": "3d710c16-1d10-425b-b7c3-08f4ec63be9f"
      },
      "execution_count": 19,
      "outputs": [
        {
          "execution_count": 19,
          "output_type": "execute_result",
          "data": {
            "text/plain": [
              "array([1., 2., 3., 4., 5., 6., 7., 8., 9.])"
            ]
          },
          "metadata": {}
        }
      ]
    },
    {
      "cell_type": "code",
      "source": "z = np.exp(y)\nz",
      "metadata": {
        "colab": {
          "base_uri": "https://localhost:8080/",
          "height": 67
        },
        "colab_type": "code",
        "executionInfo": {
          "elapsed": 335,
          "status": "ok",
          "timestamp": 1598027458892,
          "user": {
            "displayName": "Stemplicity",
            "photoUrl": "https://lh3.googleusercontent.com/a-/AOh14Gj2vCFt-bD5mPBhUWX0QA6xiBgoXQXtwUm2jgjaCg=s64",
            "userId": "10668071569687886186"
          },
          "user_tz": 240
        },
        "id": "1HvrjH4fAzGd",
        "outputId": "0ce031ac-c4fe-4b7a-d2a1-0ebf5faa1529"
      },
      "execution_count": 20,
      "outputs": [
        {
          "execution_count": 20,
          "output_type": "execute_result",
          "data": {
            "text/plain": [
              "array([2.71828183e+00, 7.38905610e+00, 2.00855369e+01, 5.45981500e+01,\n",
              "       1.48413159e+02, 4.03428793e+02, 1.09663316e+03, 2.98095799e+03,\n",
              "       8.10308393e+03])"
            ]
          },
          "metadata": {}
        }
      ]
    },
    {
      "cell_type": "markdown",
      "source": "MINI CHALLENGE #3:\n- Given the X and Y values below, obtain the distance between them\n\n```\nX = [5, 7, 20]\nY = [9, 15, 4]\n```",
      "metadata": {
        "colab_type": "text",
        "id": "-mj5Mwc2MmY2"
      }
    },
    {
      "cell_type": "code",
      "source": "x = np.array([5,7,20])\ny = np.array([9,15,4])\nz = np.sqrt(x**2 + y**2)\nz",
      "metadata": {
        "colab": {
          "base_uri": "https://localhost:8080/",
          "height": 34
        },
        "colab_type": "code",
        "executionInfo": {
          "elapsed": 426,
          "status": "ok",
          "timestamp": 1598027909595,
          "user": {
            "displayName": "Stemplicity",
            "photoUrl": "https://lh3.googleusercontent.com/a-/AOh14Gj2vCFt-bD5mPBhUWX0QA6xiBgoXQXtwUm2jgjaCg=s64",
            "userId": "10668071569687886186"
          },
          "user_tz": 240
        },
        "id": "LfvrGIb83zCA",
        "outputId": "523bb184-661b-418c-be70-39119e22abcc"
      },
      "execution_count": 21,
      "outputs": [
        {
          "execution_count": 21,
          "output_type": "execute_result",
          "data": {
            "text/plain": [
              "array([10.29563014, 16.55294536, 20.39607805])"
            ]
          },
          "metadata": {}
        }
      ]
    },
    {
      "cell_type": "markdown",
      "source": "# TASK #4: PERFORM ARRAYS SLICING AND INDEXING ",
      "metadata": {
        "colab_type": "text",
        "id": "ZA-Yb20mCYLl"
      }
    },
    {
      "cell_type": "code",
      "source": "arr = np.array([1,1,2,3,4,5,6,7,8,11])\narr",
      "metadata": {
        "colab": {
          "base_uri": "https://localhost:8080/",
          "height": 34
        },
        "colab_type": "code",
        "executionInfo": {
          "elapsed": 448,
          "status": "ok",
          "timestamp": 1598028063099,
          "user": {
            "displayName": "Stemplicity",
            "photoUrl": "https://lh3.googleusercontent.com/a-/AOh14Gj2vCFt-bD5mPBhUWX0QA6xiBgoXQXtwUm2jgjaCg=s64",
            "userId": "10668071569687886186"
          },
          "user_tz": 240
        },
        "id": "Bu6rhQ99BFCp",
        "outputId": "317a7aa3-95d1-4f4d-fc32-252f9438ee60"
      },
      "execution_count": 22,
      "outputs": [
        {
          "execution_count": 22,
          "output_type": "execute_result",
          "data": {
            "text/plain": [
              "array([ 1,  1,  2,  3,  4,  5,  6,  7,  8, 11])"
            ]
          },
          "metadata": {}
        }
      ]
    },
    {
      "cell_type": "code",
      "source": "# Access specific index from the numpy array\narr[9]",
      "metadata": {
        "colab": {
          "base_uri": "https://localhost:8080/",
          "height": 34
        },
        "colab_type": "code",
        "executionInfo": {
          "elapsed": 447,
          "status": "ok",
          "timestamp": 1598028069917,
          "user": {
            "displayName": "Stemplicity",
            "photoUrl": "https://lh3.googleusercontent.com/a-/AOh14Gj2vCFt-bD5mPBhUWX0QA6xiBgoXQXtwUm2jgjaCg=s64",
            "userId": "10668071569687886186"
          },
          "user_tz": 240
        },
        "id": "9TuEXJxgCdi_",
        "outputId": "c815002a-1009-4516-ff3d-a0a762ef50ba"
      },
      "execution_count": 23,
      "outputs": [
        {
          "execution_count": 23,
          "output_type": "execute_result",
          "data": {
            "text/plain": [
              "11"
            ]
          },
          "metadata": {}
        }
      ]
    },
    {
      "cell_type": "code",
      "source": "# Starting from the first index 0 up until and NOT including the last element\narr[0:4]",
      "metadata": {
        "colab": {
          "base_uri": "https://localhost:8080/",
          "height": 34
        },
        "colab_type": "code",
        "executionInfo": {
          "elapsed": 436,
          "status": "ok",
          "timestamp": 1598028098676,
          "user": {
            "displayName": "Stemplicity",
            "photoUrl": "https://lh3.googleusercontent.com/a-/AOh14Gj2vCFt-bD5mPBhUWX0QA6xiBgoXQXtwUm2jgjaCg=s64",
            "userId": "10668071569687886186"
          },
          "user_tz": 240
        },
        "id": "EjisujRgCdh4",
        "outputId": "ccd890ba-d245-41df-8f64-370196a50f12"
      },
      "execution_count": 24,
      "outputs": [
        {
          "execution_count": 24,
          "output_type": "execute_result",
          "data": {
            "text/plain": [
              "array([1, 1, 2, 3])"
            ]
          },
          "metadata": {}
        }
      ]
    },
    {
      "cell_type": "code",
      "source": "# Broadcasting, altering several values in a numpy array at once\narr[0:3] = 12\narr",
      "metadata": {
        "colab": {
          "base_uri": "https://localhost:8080/",
          "height": 34
        },
        "colab_type": "code",
        "executionInfo": {
          "elapsed": 463,
          "status": "ok",
          "timestamp": 1598028112470,
          "user": {
            "displayName": "Stemplicity",
            "photoUrl": "https://lh3.googleusercontent.com/a-/AOh14Gj2vCFt-bD5mPBhUWX0QA6xiBgoXQXtwUm2jgjaCg=s64",
            "userId": "10668071569687886186"
          },
          "user_tz": 240
        },
        "id": "1nWlP602Cdg3",
        "outputId": "808392cd-5fe1-4bf6-dd2e-466a42ffd8bc"
      },
      "execution_count": 25,
      "outputs": [
        {
          "execution_count": 25,
          "output_type": "execute_result",
          "data": {
            "text/plain": [
              "array([12, 12, 12,  3,  4,  5,  6,  7,  8, 11])"
            ]
          },
          "metadata": {}
        }
      ]
    },
    {
      "cell_type": "code",
      "source": "# Let's define a two dimensional numpy array\nmtx = np.random.randint(1,10,(3,3))\nmtx",
      "metadata": {
        "colab": {
          "base_uri": "https://localhost:8080/",
          "height": 101
        },
        "colab_type": "code",
        "executionInfo": {
          "elapsed": 492,
          "status": "ok",
          "timestamp": 1598028132718,
          "user": {
            "displayName": "Stemplicity",
            "photoUrl": "https://lh3.googleusercontent.com/a-/AOh14Gj2vCFt-bD5mPBhUWX0QA6xiBgoXQXtwUm2jgjaCg=s64",
            "userId": "10668071569687886186"
          },
          "user_tz": 240
        },
        "id": "fVKbwHguCddn",
        "outputId": "966bcd20-2eda-4c60-dd0b-be36b71bfab2"
      },
      "execution_count": 26,
      "outputs": [
        {
          "execution_count": 26,
          "output_type": "execute_result",
          "data": {
            "text/plain": [
              "array([[5, 3, 7],\n",
              "       [5, 2, 4],\n",
              "       [9, 8, 2]])"
            ]
          },
          "metadata": {}
        }
      ]
    },
    {
      "cell_type": "code",
      "source": "# Get a row from a mtrix\nmtx[2]",
      "metadata": {
        "colab": {
          "base_uri": "https://localhost:8080/",
          "height": 34
        },
        "colab_type": "code",
        "executionInfo": {
          "elapsed": 439,
          "status": "ok",
          "timestamp": 1598028135101,
          "user": {
            "displayName": "Stemplicity",
            "photoUrl": "https://lh3.googleusercontent.com/a-/AOh14Gj2vCFt-bD5mPBhUWX0QA6xiBgoXQXtwUm2jgjaCg=s64",
            "userId": "10668071569687886186"
          },
          "user_tz": 240
        },
        "id": "Ea7ukwEzCda-",
        "outputId": "65c5dbb6-43ee-4910-cf2d-6d2841023369"
      },
      "execution_count": 27,
      "outputs": [
        {
          "execution_count": 27,
          "output_type": "execute_result",
          "data": {
            "text/plain": [
              "array([9, 8, 2])"
            ]
          },
          "metadata": {}
        }
      ]
    },
    {
      "cell_type": "code",
      "source": "# Get one element\nmtx[1][2]",
      "metadata": {
        "colab": {
          "base_uri": "https://localhost:8080/",
          "height": 34
        },
        "colab_type": "code",
        "executionInfo": {
          "elapsed": 534,
          "status": "ok",
          "timestamp": 1598028148280,
          "user": {
            "displayName": "Stemplicity",
            "photoUrl": "https://lh3.googleusercontent.com/a-/AOh14Gj2vCFt-bD5mPBhUWX0QA6xiBgoXQXtwUm2jgjaCg=s64",
            "userId": "10668071569687886186"
          },
          "user_tz": 240
        },
        "id": "8KJk10J8Ci8k",
        "outputId": "d533fa0a-9de0-4a2b-e5b0-1005a782ce5b"
      },
      "execution_count": 28,
      "outputs": [
        {
          "execution_count": 28,
          "output_type": "execute_result",
          "data": {
            "text/plain": [
              "4"
            ]
          },
          "metadata": {}
        }
      ]
    },
    {
      "cell_type": "markdown",
      "source": "MINI CHALLENGE #4:\n- In the following matrix, replace the last row with 0\n\n```\nX = [2 30 20 -2 -4]\n    [3 4  40 -3 -2]\n    [-3 4 -6 90 10]\n    [25 45 34 22 12]\n    [13 24 22 32 37]\n```\n\n",
      "metadata": {
        "colab_type": "text",
        "id": "zgyFPV5R8dUS"
      }
    },
    {
      "cell_type": "code",
      "source": "X = np.array([[2, 30, 20, -2 ,-4],\n              [3, 4,  40, -3, -2],\n              [-3, 4, -6, 90, 10],\n              [25, 45, 34, 22, 12],\n              [13, 24, 22, 32, 37]])\nX[4] = 0\nX",
      "metadata": {},
      "execution_count": 29,
      "outputs": [
        {
          "execution_count": 29,
          "output_type": "execute_result",
          "data": {
            "text/plain": [
              "array([[ 2, 30, 20, -2, -4],\n",
              "       [ 3,  4, 40, -3, -2],\n",
              "       [-3,  4, -6, 90, 10],\n",
              "       [25, 45, 34, 22, 12],\n",
              "       [ 0,  0,  0,  0,  0]])"
            ]
          },
          "metadata": {}
        }
      ]
    },
    {
      "cell_type": "markdown",
      "source": "# TASK #5: PERFORM ELEMENTS SELECTION (CONDITIONAL)",
      "metadata": {
        "colab_type": "text",
        "id": "juuMOEq7Col_"
      }
    },
    {
      "cell_type": "code",
      "source": "mtx = np.random.randint(1,20, (5,5))\nmtx",
      "metadata": {
        "colab": {
          "base_uri": "https://localhost:8080/",
          "height": 101
        },
        "colab_type": "code",
        "executionInfo": {
          "elapsed": 522,
          "status": "ok",
          "timestamp": 1598028251687,
          "user": {
            "displayName": "Stemplicity",
            "photoUrl": "https://lh3.googleusercontent.com/a-/AOh14Gj2vCFt-bD5mPBhUWX0QA6xiBgoXQXtwUm2jgjaCg=s64",
            "userId": "10668071569687886186"
          },
          "user_tz": 240
        },
        "id": "UujCvuhMCt4K",
        "outputId": "8e605106-5cdf-4026-a3bc-1a9716e0a23a"
      },
      "execution_count": 30,
      "outputs": [
        {
          "execution_count": 30,
          "output_type": "execute_result",
          "data": {
            "text/plain": [
              "array([[ 9, 13,  3,  9,  7],\n",
              "       [ 5, 16, 16, 15,  7],\n",
              "       [19, 15, 15, 14, 16],\n",
              "       [ 5,  7, 16,  6, 10],\n",
              "       [18, 13, 15, 18,  8]])"
            ]
          },
          "metadata": {}
        }
      ]
    },
    {
      "cell_type": "code",
      "source": "new_mtx = mtx[mtx > 6]\nnew_mtx",
      "metadata": {
        "colab": {
          "base_uri": "https://localhost:8080/",
          "height": 34
        },
        "colab_type": "code",
        "executionInfo": {
          "elapsed": 475,
          "status": "ok",
          "timestamp": 1598028252674,
          "user": {
            "displayName": "Stemplicity",
            "photoUrl": "https://lh3.googleusercontent.com/a-/AOh14Gj2vCFt-bD5mPBhUWX0QA6xiBgoXQXtwUm2jgjaCg=s64",
            "userId": "10668071569687886186"
          },
          "user_tz": 240
        },
        "id": "JBgJ8ugyCvht",
        "outputId": "19222d58-5192-41c0-9177-9700365640f8"
      },
      "execution_count": 31,
      "outputs": [
        {
          "execution_count": 31,
          "output_type": "execute_result",
          "data": {
            "text/plain": [
              "array([ 9, 13,  9,  7, 16, 16, 15,  7, 19, 15, 15, 14, 16,  7, 16, 10, 18,\n",
              "       13, 15, 18,  8])"
            ]
          },
          "metadata": {}
        }
      ]
    },
    {
      "cell_type": "code",
      "source": "# Obtain odd elements only\nnew_odd = mtx[mtx % 2 != 0]\nnew_odd\n",
      "metadata": {
        "colab": {
          "base_uri": "https://localhost:8080/",
          "height": 34
        },
        "colab_type": "code",
        "executionInfo": {
          "elapsed": 501,
          "status": "ok",
          "timestamp": 1598028255328,
          "user": {
            "displayName": "Stemplicity",
            "photoUrl": "https://lh3.googleusercontent.com/a-/AOh14Gj2vCFt-bD5mPBhUWX0QA6xiBgoXQXtwUm2jgjaCg=s64",
            "userId": "10668071569687886186"
          },
          "user_tz": 240
        },
        "id": "TIQ-A7IBCvgl",
        "outputId": "339c27ed-4291-4e10-a1d6-0cc5857e1a93"
      },
      "execution_count": 32,
      "outputs": [
        {
          "execution_count": 32,
          "output_type": "execute_result",
          "data": {
            "text/plain": [
              "array([ 9, 13,  3,  9,  7,  5, 15,  7, 19, 15, 15,  5,  7, 13, 15])"
            ]
          },
          "metadata": {}
        }
      ]
    },
    {
      "cell_type": "markdown",
      "source": "MINI CHALLENGE #5:\n- In the following matrix, replace negative elements by 0 and replace odd elements with -2\n\n\n```\nX = [2 30 20 -2 -4]\n    [3 4  40 -3 -2]\n    [-3 4 -6 90 10]\n    [25 45 34 22 12]\n    [13 24 22 32 37]\n```\n",
      "metadata": {
        "colab_type": "text",
        "id": "39QiMh-W8ogs"
      }
    },
    {
      "cell_type": "code",
      "source": "X = np.array([[2, 30, 20, -2 ,-4],\n              [3, 4,  40, -3, -2],\n              [-3, 4, -6, 90, 10],\n              [25, 45, 34, 22, 12],\n              [13, 24, 22, 32, 37]])\nX[X < 0] = 0\nX[X %2 != 0] = -2\nX",
      "metadata": {},
      "execution_count": 33,
      "outputs": [
        {
          "execution_count": 33,
          "output_type": "execute_result",
          "data": {
            "text/plain": [
              "array([[ 2, 30, 20,  0,  0],\n",
              "       [-2,  4, 40,  0,  0],\n",
              "       [ 0,  4,  0, 90, 10],\n",
              "       [-2, -2, 34, 22, 12],\n",
              "       [-2, 24, 22, 32, -2]])"
            ]
          },
          "metadata": {}
        }
      ]
    },
    {
      "cell_type": "markdown",
      "source": "# TASK #6: UNDERSTAND PANDAS FUNDAMENTALS",
      "metadata": {
        "colab": {},
        "colab_type": "code",
        "id": "AbN-vySf9gen"
      }
    },
    {
      "cell_type": "code",
      "source": "# Pandas is a data manipulation and analysis tool that is built on Numpy.\n# Pandas uses a data structure known as DataFrame (think of it as Microsoft excel in Python). \n# DataFrames empower programmers to store and manipulate data in a tabular fashion (rows and columns).\n# Series Vs. DataFrame? Series is considered a single column of a DataFrame.",
      "metadata": {},
      "execution_count": 34,
      "outputs": []
    },
    {
      "cell_type": "code",
      "source": "import pandas as pd",
      "metadata": {},
      "execution_count": 35,
      "outputs": []
    },
    {
      "cell_type": "code",
      "source": "# Let's define a two-dimensional Pandas DataFrame\n# Note that you can create a pandas dataframe from a python dictionary\nbank_client = pd.DataFrame({'Bank Client ID': [11,12,13,14,15],\n                           'Client Name': ['Sam','Ram','Tim','Cook','Steve'],\n                           'Net Worth ($)': [1200,3200,7800,1234, 9999],\n                           'Year with Bank': [2,4,3,6,7]})\nbank_client",
      "metadata": {},
      "execution_count": 36,
      "outputs": [
        {
          "execution_count": 36,
          "output_type": "execute_result",
          "data": {
            "text/html": [
              "<div>\n",
              "<style scoped>\n",
              "    .dataframe tbody tr th:only-of-type {\n",
              "        vertical-align: middle;\n",
              "    }\n",
              "\n",
              "    .dataframe tbody tr th {\n",
              "        vertical-align: top;\n",
              "    }\n",
              "\n",
              "    .dataframe thead th {\n",
              "        text-align: right;\n",
              "    }\n",
              "</style>\n",
              "<table border=\"1\" class=\"dataframe\">\n",
              "  <thead>\n",
              "    <tr style=\"text-align: right;\">\n",
              "      <th></th>\n",
              "      <th>Bank Client ID</th>\n",
              "      <th>Client Name</th>\n",
              "      <th>Net Worth ($)</th>\n",
              "      <th>Year with Bank</th>\n",
              "    </tr>\n",
              "  </thead>\n",
              "  <tbody>\n",
              "    <tr>\n",
              "      <th>0</th>\n",
              "      <td>11</td>\n",
              "      <td>Sam</td>\n",
              "      <td>1200</td>\n",
              "      <td>2</td>\n",
              "    </tr>\n",
              "    <tr>\n",
              "      <th>1</th>\n",
              "      <td>12</td>\n",
              "      <td>Ram</td>\n",
              "      <td>3200</td>\n",
              "      <td>4</td>\n",
              "    </tr>\n",
              "    <tr>\n",
              "      <th>2</th>\n",
              "      <td>13</td>\n",
              "      <td>Tim</td>\n",
              "      <td>7800</td>\n",
              "      <td>3</td>\n",
              "    </tr>\n",
              "    <tr>\n",
              "      <th>3</th>\n",
              "      <td>14</td>\n",
              "      <td>Cook</td>\n",
              "      <td>1234</td>\n",
              "      <td>6</td>\n",
              "    </tr>\n",
              "    <tr>\n",
              "      <th>4</th>\n",
              "      <td>15</td>\n",
              "      <td>Steve</td>\n",
              "      <td>9999</td>\n",
              "      <td>7</td>\n",
              "    </tr>\n",
              "  </tbody>\n",
              "</table>\n",
              "</div>"
            ],
            "text/plain": [
              "   Bank Client ID Client Name  Net Worth ($)  Year with Bank\n",
              "0              11         Sam           1200               2\n",
              "1              12         Ram           3200               4\n",
              "2              13         Tim           7800               3\n",
              "3              14        Cook           1234               6\n",
              "4              15       Steve           9999               7"
            ]
          },
          "metadata": {}
        }
      ]
    },
    {
      "cell_type": "code",
      "source": "# Let's obtain the data type \ntype(bank_client)",
      "metadata": {},
      "execution_count": 37,
      "outputs": [
        {
          "execution_count": 37,
          "output_type": "execute_result",
          "data": {
            "text/plain": [
              "pandas.core.frame.DataFrame"
            ]
          },
          "metadata": {}
        }
      ]
    },
    {
      "cell_type": "code",
      "source": "# you can only view the first couple of rows using .head()\nbank_client.head()",
      "metadata": {},
      "execution_count": 38,
      "outputs": [
        {
          "execution_count": 38,
          "output_type": "execute_result",
          "data": {
            "text/html": [
              "<div>\n",
              "<style scoped>\n",
              "    .dataframe tbody tr th:only-of-type {\n",
              "        vertical-align: middle;\n",
              "    }\n",
              "\n",
              "    .dataframe tbody tr th {\n",
              "        vertical-align: top;\n",
              "    }\n",
              "\n",
              "    .dataframe thead th {\n",
              "        text-align: right;\n",
              "    }\n",
              "</style>\n",
              "<table border=\"1\" class=\"dataframe\">\n",
              "  <thead>\n",
              "    <tr style=\"text-align: right;\">\n",
              "      <th></th>\n",
              "      <th>Bank Client ID</th>\n",
              "      <th>Client Name</th>\n",
              "      <th>Net Worth ($)</th>\n",
              "      <th>Year with Bank</th>\n",
              "    </tr>\n",
              "  </thead>\n",
              "  <tbody>\n",
              "    <tr>\n",
              "      <th>0</th>\n",
              "      <td>11</td>\n",
              "      <td>Sam</td>\n",
              "      <td>1200</td>\n",
              "      <td>2</td>\n",
              "    </tr>\n",
              "    <tr>\n",
              "      <th>1</th>\n",
              "      <td>12</td>\n",
              "      <td>Ram</td>\n",
              "      <td>3200</td>\n",
              "      <td>4</td>\n",
              "    </tr>\n",
              "    <tr>\n",
              "      <th>2</th>\n",
              "      <td>13</td>\n",
              "      <td>Tim</td>\n",
              "      <td>7800</td>\n",
              "      <td>3</td>\n",
              "    </tr>\n",
              "    <tr>\n",
              "      <th>3</th>\n",
              "      <td>14</td>\n",
              "      <td>Cook</td>\n",
              "      <td>1234</td>\n",
              "      <td>6</td>\n",
              "    </tr>\n",
              "    <tr>\n",
              "      <th>4</th>\n",
              "      <td>15</td>\n",
              "      <td>Steve</td>\n",
              "      <td>9999</td>\n",
              "      <td>7</td>\n",
              "    </tr>\n",
              "  </tbody>\n",
              "</table>\n",
              "</div>"
            ],
            "text/plain": [
              "   Bank Client ID Client Name  Net Worth ($)  Year with Bank\n",
              "0              11         Sam           1200               2\n",
              "1              12         Ram           3200               4\n",
              "2              13         Tim           7800               3\n",
              "3              14        Cook           1234               6\n",
              "4              15       Steve           9999               7"
            ]
          },
          "metadata": {}
        }
      ]
    },
    {
      "cell_type": "code",
      "source": "# you can only view the last couple of rows using .tail()\nbank_client.tail()",
      "metadata": {},
      "execution_count": 39,
      "outputs": [
        {
          "execution_count": 39,
          "output_type": "execute_result",
          "data": {
            "text/html": [
              "<div>\n",
              "<style scoped>\n",
              "    .dataframe tbody tr th:only-of-type {\n",
              "        vertical-align: middle;\n",
              "    }\n",
              "\n",
              "    .dataframe tbody tr th {\n",
              "        vertical-align: top;\n",
              "    }\n",
              "\n",
              "    .dataframe thead th {\n",
              "        text-align: right;\n",
              "    }\n",
              "</style>\n",
              "<table border=\"1\" class=\"dataframe\">\n",
              "  <thead>\n",
              "    <tr style=\"text-align: right;\">\n",
              "      <th></th>\n",
              "      <th>Bank Client ID</th>\n",
              "      <th>Client Name</th>\n",
              "      <th>Net Worth ($)</th>\n",
              "      <th>Year with Bank</th>\n",
              "    </tr>\n",
              "  </thead>\n",
              "  <tbody>\n",
              "    <tr>\n",
              "      <th>0</th>\n",
              "      <td>11</td>\n",
              "      <td>Sam</td>\n",
              "      <td>1200</td>\n",
              "      <td>2</td>\n",
              "    </tr>\n",
              "    <tr>\n",
              "      <th>1</th>\n",
              "      <td>12</td>\n",
              "      <td>Ram</td>\n",
              "      <td>3200</td>\n",
              "      <td>4</td>\n",
              "    </tr>\n",
              "    <tr>\n",
              "      <th>2</th>\n",
              "      <td>13</td>\n",
              "      <td>Tim</td>\n",
              "      <td>7800</td>\n",
              "      <td>3</td>\n",
              "    </tr>\n",
              "    <tr>\n",
              "      <th>3</th>\n",
              "      <td>14</td>\n",
              "      <td>Cook</td>\n",
              "      <td>1234</td>\n",
              "      <td>6</td>\n",
              "    </tr>\n",
              "    <tr>\n",
              "      <th>4</th>\n",
              "      <td>15</td>\n",
              "      <td>Steve</td>\n",
              "      <td>9999</td>\n",
              "      <td>7</td>\n",
              "    </tr>\n",
              "  </tbody>\n",
              "</table>\n",
              "</div>"
            ],
            "text/plain": [
              "   Bank Client ID Client Name  Net Worth ($)  Year with Bank\n",
              "0              11         Sam           1200               2\n",
              "1              12         Ram           3200               4\n",
              "2              13         Tim           7800               3\n",
              "3              14        Cook           1234               6\n",
              "4              15       Steve           9999               7"
            ]
          },
          "metadata": {}
        }
      ]
    },
    {
      "cell_type": "markdown",
      "source": "MINI CHALLENGE #6:\n- A porfolio contains a collection of securities such as stocks, bonds and ETFs. Define a dataframe named 'portfolio_df' that holds 3 different stock ticker symbols, number of shares, and price per share (feel free to choose any stocks)\n- Calculate the total value of the porfolio including all stocks",
      "metadata": {}
    },
    {
      "cell_type": "code",
      "source": "portfolio_df = pd.DataFrame({'Stock Ticker Symbol': ['AAPL', 'AMZM', 'T', 'TCS'],\n                            'Price per Share [$]': [231, 342, 123, 345],\n                            'Number of Shares': [5, 12, 5,23]})\nportfolio_df\nStocks_Value = portfolio_df['Price per Share [$]'] * portfolio_df['Number of Shares']\nStocks_Value.sum()",
      "metadata": {},
      "execution_count": 40,
      "outputs": [
        {
          "execution_count": 40,
          "output_type": "execute_result",
          "data": {
            "text/plain": [
              "13809"
            ]
          },
          "metadata": {}
        }
      ]
    },
    {
      "cell_type": "markdown",
      "source": "# TASK #7: PANDAS WITH CSV AND HTML DATA",
      "metadata": {}
    },
    {
      "cell_type": "code",
      "source": "!pip install lxml\n\n# install this package as it helps in opening html files.",
      "metadata": {},
      "execution_count": 41,
      "outputs": [
        {
          "name": "stderr",
          "output_type": "stream",
          "text": "ERROR: Invalid requirement: '#install'\n"
        }
      ]
    },
    {
      "cell_type": "code",
      "source": "import ssl # resolve certificate errors\n\nssl._create_default_https_context = ssl._create_unverified_context",
      "metadata": {},
      "execution_count": 42,
      "outputs": []
    },
    {
      "cell_type": "code",
      "source": "# Read tabular data using read_html\nhouse_price_df = pd.read_html('https://www.livingin-canada.com/house-prices-canada.html')\nhouse_price_df[0]",
      "metadata": {},
      "execution_count": 43,
      "outputs": [
        {
          "execution_count": 43,
          "output_type": "execute_result",
          "data": {
            "text/html": [
              "<div>\n",
              "<style scoped>\n",
              "    .dataframe tbody tr th:only-of-type {\n",
              "        vertical-align: middle;\n",
              "    }\n",
              "\n",
              "    .dataframe tbody tr th {\n",
              "        vertical-align: top;\n",
              "    }\n",
              "\n",
              "    .dataframe thead th {\n",
              "        text-align: right;\n",
              "    }\n",
              "</style>\n",
              "<table border=\"1\" class=\"dataframe\">\n",
              "  <thead>\n",
              "    <tr style=\"text-align: right;\">\n",
              "      <th></th>\n",
              "      <th>City</th>\n",
              "      <th>Average House Price</th>\n",
              "      <th>12 Month Change</th>\n",
              "    </tr>\n",
              "  </thead>\n",
              "  <tbody>\n",
              "    <tr>\n",
              "      <th>0</th>\n",
              "      <td>Vancouver, BC</td>\n",
              "      <td>$1,036,000</td>\n",
              "      <td>+ 2.63 %</td>\n",
              "    </tr>\n",
              "    <tr>\n",
              "      <th>1</th>\n",
              "      <td>Toronto, Ont</td>\n",
              "      <td>$870,000</td>\n",
              "      <td>+10.2 %</td>\n",
              "    </tr>\n",
              "    <tr>\n",
              "      <th>2</th>\n",
              "      <td>Ottawa, Ont</td>\n",
              "      <td>$479,000</td>\n",
              "      <td>+ 15.4 %</td>\n",
              "    </tr>\n",
              "    <tr>\n",
              "      <th>3</th>\n",
              "      <td>Calgary, Alb</td>\n",
              "      <td>$410,000</td>\n",
              "      <td>– 1.5 %</td>\n",
              "    </tr>\n",
              "    <tr>\n",
              "      <th>4</th>\n",
              "      <td>Montreal, Que</td>\n",
              "      <td>$435,000</td>\n",
              "      <td>+ 9.3 %</td>\n",
              "    </tr>\n",
              "    <tr>\n",
              "      <th>5</th>\n",
              "      <td>Halifax, NS</td>\n",
              "      <td>$331,000</td>\n",
              "      <td>+ 3.6 %</td>\n",
              "    </tr>\n",
              "    <tr>\n",
              "      <th>6</th>\n",
              "      <td>Regina, Sask</td>\n",
              "      <td>$254,000</td>\n",
              "      <td>– 3.9 %</td>\n",
              "    </tr>\n",
              "    <tr>\n",
              "      <th>7</th>\n",
              "      <td>Fredericton, NB</td>\n",
              "      <td>$198,000</td>\n",
              "      <td>– 4.3 %</td>\n",
              "    </tr>\n",
              "    <tr>\n",
              "      <th>8</th>\n",
              "      <td>(adsbygoogle = window.adsbygoogle || []).push(...</td>\n",
              "      <td>(adsbygoogle = window.adsbygoogle || []).push(...</td>\n",
              "      <td>(adsbygoogle = window.adsbygoogle || []).push(...</td>\n",
              "    </tr>\n",
              "  </tbody>\n",
              "</table>\n",
              "</div>"
            ],
            "text/plain": [
              "                                                City  \\\n",
              "0                                      Vancouver, BC   \n",
              "1                                       Toronto, Ont   \n",
              "2                                        Ottawa, Ont   \n",
              "3                                       Calgary, Alb   \n",
              "4                                      Montreal, Que   \n",
              "5                                        Halifax, NS   \n",
              "6                                       Regina, Sask   \n",
              "7                                    Fredericton, NB   \n",
              "8  (adsbygoogle = window.adsbygoogle || []).push(...   \n",
              "\n",
              "                                 Average House Price  \\\n",
              "0                                         $1,036,000   \n",
              "1                                           $870,000   \n",
              "2                                           $479,000   \n",
              "3                                           $410,000   \n",
              "4                                           $435,000   \n",
              "5                                           $331,000   \n",
              "6                                           $254,000   \n",
              "7                                           $198,000   \n",
              "8  (adsbygoogle = window.adsbygoogle || []).push(...   \n",
              "\n",
              "                                     12 Month Change  \n",
              "0                                           + 2.63 %  \n",
              "1                                            +10.2 %  \n",
              "2                                           + 15.4 %  \n",
              "3                                            – 1.5 %  \n",
              "4                                            + 9.3 %  \n",
              "5                                            + 3.6 %  \n",
              "6                                            – 3.9 %  \n",
              "7                                            – 4.3 %  \n",
              "8  (adsbygoogle = window.adsbygoogle || []).push(...  "
            ]
          },
          "metadata": {}
        }
      ]
    },
    {
      "cell_type": "code",
      "source": "",
      "metadata": {},
      "execution_count": null,
      "outputs": []
    },
    {
      "cell_type": "markdown",
      "source": "MINI CHALLENGE #7:\n- Write a code that uses Pandas to read tabular US retirement data\n- You can use data from here: https://www.ssa.gov/oact/progdata/nra.html ",
      "metadata": {}
    },
    {
      "cell_type": "code",
      "source": "retirement_df = pd.read_html('https://www.ssa.gov/oact/progdata/nra.html')\nretirement_df[0]",
      "metadata": {},
      "execution_count": 44,
      "outputs": [
        {
          "execution_count": 44,
          "output_type": "execute_result",
          "data": {
            "text/html": [
              "<div>\n",
              "<style scoped>\n",
              "    .dataframe tbody tr th:only-of-type {\n",
              "        vertical-align: middle;\n",
              "    }\n",
              "\n",
              "    .dataframe tbody tr th {\n",
              "        vertical-align: top;\n",
              "    }\n",
              "\n",
              "    .dataframe thead th {\n",
              "        text-align: right;\n",
              "    }\n",
              "</style>\n",
              "<table border=\"1\" class=\"dataframe\">\n",
              "  <thead>\n",
              "    <tr style=\"text-align: right;\">\n",
              "      <th></th>\n",
              "      <th>Year of birth</th>\n",
              "      <th>Age</th>\n",
              "    </tr>\n",
              "  </thead>\n",
              "  <tbody>\n",
              "    <tr>\n",
              "      <th>0</th>\n",
              "      <td>1937 and prior</td>\n",
              "      <td>65</td>\n",
              "    </tr>\n",
              "    <tr>\n",
              "      <th>1</th>\n",
              "      <td>1938</td>\n",
              "      <td>65 and 2 months</td>\n",
              "    </tr>\n",
              "    <tr>\n",
              "      <th>2</th>\n",
              "      <td>1939</td>\n",
              "      <td>65 and 4 months</td>\n",
              "    </tr>\n",
              "    <tr>\n",
              "      <th>3</th>\n",
              "      <td>1940</td>\n",
              "      <td>65 and 6 months</td>\n",
              "    </tr>\n",
              "    <tr>\n",
              "      <th>4</th>\n",
              "      <td>1941</td>\n",
              "      <td>65 and 8 months</td>\n",
              "    </tr>\n",
              "    <tr>\n",
              "      <th>5</th>\n",
              "      <td>1942</td>\n",
              "      <td>65 and 10 months</td>\n",
              "    </tr>\n",
              "    <tr>\n",
              "      <th>6</th>\n",
              "      <td>1943-54</td>\n",
              "      <td>66</td>\n",
              "    </tr>\n",
              "    <tr>\n",
              "      <th>7</th>\n",
              "      <td>1955</td>\n",
              "      <td>66 and 2 months</td>\n",
              "    </tr>\n",
              "    <tr>\n",
              "      <th>8</th>\n",
              "      <td>1956</td>\n",
              "      <td>66 and 4 months</td>\n",
              "    </tr>\n",
              "    <tr>\n",
              "      <th>9</th>\n",
              "      <td>1957</td>\n",
              "      <td>66 and 6 months</td>\n",
              "    </tr>\n",
              "    <tr>\n",
              "      <th>10</th>\n",
              "      <td>1958</td>\n",
              "      <td>66 and 8 months</td>\n",
              "    </tr>\n",
              "    <tr>\n",
              "      <th>11</th>\n",
              "      <td>1959</td>\n",
              "      <td>66 and 10 months</td>\n",
              "    </tr>\n",
              "    <tr>\n",
              "      <th>12</th>\n",
              "      <td>1960 and later</td>\n",
              "      <td>67</td>\n",
              "    </tr>\n",
              "    <tr>\n",
              "      <th>13</th>\n",
              "      <td>Notes: 1. Persons born on January 1 of any yea...</td>\n",
              "      <td>Notes: 1. Persons born on January 1 of any yea...</td>\n",
              "    </tr>\n",
              "  </tbody>\n",
              "</table>\n",
              "</div>"
            ],
            "text/plain": [
              "                                        Year of birth  \\\n",
              "0                                      1937 and prior   \n",
              "1                                                1938   \n",
              "2                                                1939   \n",
              "3                                                1940   \n",
              "4                                                1941   \n",
              "5                                                1942   \n",
              "6                                             1943-54   \n",
              "7                                                1955   \n",
              "8                                                1956   \n",
              "9                                                1957   \n",
              "10                                               1958   \n",
              "11                                               1959   \n",
              "12                                     1960 and later   \n",
              "13  Notes: 1. Persons born on January 1 of any yea...   \n",
              "\n",
              "                                                  Age  \n",
              "0                                                  65  \n",
              "1                                     65 and 2 months  \n",
              "2                                     65 and 4 months  \n",
              "3                                     65 and 6 months  \n",
              "4                                     65 and 8 months  \n",
              "5                                    65 and 10 months  \n",
              "6                                                  66  \n",
              "7                                     66 and 2 months  \n",
              "8                                     66 and 4 months  \n",
              "9                                     66 and 6 months  \n",
              "10                                    66 and 8 months  \n",
              "11                                   66 and 10 months  \n",
              "12                                                 67  \n",
              "13  Notes: 1. Persons born on January 1 of any yea...  "
            ]
          },
          "metadata": {}
        }
      ]
    },
    {
      "cell_type": "markdown",
      "source": "# TASK #8: PANDAS OPERATIONS",
      "metadata": {}
    },
    {
      "cell_type": "code",
      "source": "# Let's define a dataframe as follows:\nbank_client_df = pd.DataFrame({'Bank Client ID': [11,12,13,14,15],\n                           'Client Name': ['Sam','Ram','Tim','Cook','Steve'],\n                           'Net Worth ($)': [1200,3200,7800,1234, 9999],\n                           'Year with Bank': [6,8,3,4,7]})\nbank_client_df",
      "metadata": {},
      "execution_count": 45,
      "outputs": [
        {
          "execution_count": 45,
          "output_type": "execute_result",
          "data": {
            "text/html": [
              "<div>\n",
              "<style scoped>\n",
              "    .dataframe tbody tr th:only-of-type {\n",
              "        vertical-align: middle;\n",
              "    }\n",
              "\n",
              "    .dataframe tbody tr th {\n",
              "        vertical-align: top;\n",
              "    }\n",
              "\n",
              "    .dataframe thead th {\n",
              "        text-align: right;\n",
              "    }\n",
              "</style>\n",
              "<table border=\"1\" class=\"dataframe\">\n",
              "  <thead>\n",
              "    <tr style=\"text-align: right;\">\n",
              "      <th></th>\n",
              "      <th>Bank Client ID</th>\n",
              "      <th>Client Name</th>\n",
              "      <th>Net Worth ($)</th>\n",
              "      <th>Year with Bank</th>\n",
              "    </tr>\n",
              "  </thead>\n",
              "  <tbody>\n",
              "    <tr>\n",
              "      <th>0</th>\n",
              "      <td>11</td>\n",
              "      <td>Sam</td>\n",
              "      <td>1200</td>\n",
              "      <td>6</td>\n",
              "    </tr>\n",
              "    <tr>\n",
              "      <th>1</th>\n",
              "      <td>12</td>\n",
              "      <td>Ram</td>\n",
              "      <td>3200</td>\n",
              "      <td>8</td>\n",
              "    </tr>\n",
              "    <tr>\n",
              "      <th>2</th>\n",
              "      <td>13</td>\n",
              "      <td>Tim</td>\n",
              "      <td>7800</td>\n",
              "      <td>3</td>\n",
              "    </tr>\n",
              "    <tr>\n",
              "      <th>3</th>\n",
              "      <td>14</td>\n",
              "      <td>Cook</td>\n",
              "      <td>1234</td>\n",
              "      <td>4</td>\n",
              "    </tr>\n",
              "    <tr>\n",
              "      <th>4</th>\n",
              "      <td>15</td>\n",
              "      <td>Steve</td>\n",
              "      <td>9999</td>\n",
              "      <td>7</td>\n",
              "    </tr>\n",
              "  </tbody>\n",
              "</table>\n",
              "</div>"
            ],
            "text/plain": [
              "   Bank Client ID Client Name  Net Worth ($)  Year with Bank\n",
              "0              11         Sam           1200               6\n",
              "1              12         Ram           3200               8\n",
              "2              13         Tim           7800               3\n",
              "3              14        Cook           1234               4\n",
              "4              15       Steve           9999               7"
            ]
          },
          "metadata": {}
        }
      ]
    },
    {
      "cell_type": "code",
      "source": "# Pick certain rows that satisfy a certain criteria \ndf_loyal = bank_client_df[ bank_client_df['Year with Bank']>= 5]\ndf_loyal",
      "metadata": {},
      "execution_count": 46,
      "outputs": [
        {
          "execution_count": 46,
          "output_type": "execute_result",
          "data": {
            "text/html": [
              "<div>\n",
              "<style scoped>\n",
              "    .dataframe tbody tr th:only-of-type {\n",
              "        vertical-align: middle;\n",
              "    }\n",
              "\n",
              "    .dataframe tbody tr th {\n",
              "        vertical-align: top;\n",
              "    }\n",
              "\n",
              "    .dataframe thead th {\n",
              "        text-align: right;\n",
              "    }\n",
              "</style>\n",
              "<table border=\"1\" class=\"dataframe\">\n",
              "  <thead>\n",
              "    <tr style=\"text-align: right;\">\n",
              "      <th></th>\n",
              "      <th>Bank Client ID</th>\n",
              "      <th>Client Name</th>\n",
              "      <th>Net Worth ($)</th>\n",
              "      <th>Year with Bank</th>\n",
              "    </tr>\n",
              "  </thead>\n",
              "  <tbody>\n",
              "    <tr>\n",
              "      <th>0</th>\n",
              "      <td>11</td>\n",
              "      <td>Sam</td>\n",
              "      <td>1200</td>\n",
              "      <td>6</td>\n",
              "    </tr>\n",
              "    <tr>\n",
              "      <th>1</th>\n",
              "      <td>12</td>\n",
              "      <td>Ram</td>\n",
              "      <td>3200</td>\n",
              "      <td>8</td>\n",
              "    </tr>\n",
              "    <tr>\n",
              "      <th>4</th>\n",
              "      <td>15</td>\n",
              "      <td>Steve</td>\n",
              "      <td>9999</td>\n",
              "      <td>7</td>\n",
              "    </tr>\n",
              "  </tbody>\n",
              "</table>\n",
              "</div>"
            ],
            "text/plain": [
              "   Bank Client ID Client Name  Net Worth ($)  Year with Bank\n",
              "0              11         Sam           1200               6\n",
              "1              12         Ram           3200               8\n",
              "4              15       Steve           9999               7"
            ]
          },
          "metadata": {}
        }
      ]
    },
    {
      "cell_type": "code",
      "source": "# Delete a column from a DataFrame\ndel bank_client_df['Bank Client ID']\nbank_client_df",
      "metadata": {},
      "execution_count": 47,
      "outputs": [
        {
          "execution_count": 47,
          "output_type": "execute_result",
          "data": {
            "text/html": [
              "<div>\n",
              "<style scoped>\n",
              "    .dataframe tbody tr th:only-of-type {\n",
              "        vertical-align: middle;\n",
              "    }\n",
              "\n",
              "    .dataframe tbody tr th {\n",
              "        vertical-align: top;\n",
              "    }\n",
              "\n",
              "    .dataframe thead th {\n",
              "        text-align: right;\n",
              "    }\n",
              "</style>\n",
              "<table border=\"1\" class=\"dataframe\">\n",
              "  <thead>\n",
              "    <tr style=\"text-align: right;\">\n",
              "      <th></th>\n",
              "      <th>Client Name</th>\n",
              "      <th>Net Worth ($)</th>\n",
              "      <th>Year with Bank</th>\n",
              "    </tr>\n",
              "  </thead>\n",
              "  <tbody>\n",
              "    <tr>\n",
              "      <th>0</th>\n",
              "      <td>Sam</td>\n",
              "      <td>1200</td>\n",
              "      <td>6</td>\n",
              "    </tr>\n",
              "    <tr>\n",
              "      <th>1</th>\n",
              "      <td>Ram</td>\n",
              "      <td>3200</td>\n",
              "      <td>8</td>\n",
              "    </tr>\n",
              "    <tr>\n",
              "      <th>2</th>\n",
              "      <td>Tim</td>\n",
              "      <td>7800</td>\n",
              "      <td>3</td>\n",
              "    </tr>\n",
              "    <tr>\n",
              "      <th>3</th>\n",
              "      <td>Cook</td>\n",
              "      <td>1234</td>\n",
              "      <td>4</td>\n",
              "    </tr>\n",
              "    <tr>\n",
              "      <th>4</th>\n",
              "      <td>Steve</td>\n",
              "      <td>9999</td>\n",
              "      <td>7</td>\n",
              "    </tr>\n",
              "  </tbody>\n",
              "</table>\n",
              "</div>"
            ],
            "text/plain": [
              "  Client Name  Net Worth ($)  Year with Bank\n",
              "0         Sam           1200               6\n",
              "1         Ram           3200               8\n",
              "2         Tim           7800               3\n",
              "3        Cook           1234               4\n",
              "4       Steve           9999               7"
            ]
          },
          "metadata": {}
        }
      ]
    },
    {
      "cell_type": "markdown",
      "source": "MINI CHALLENGE #8:\n- Using \"bank_client_df\" DataFrame, leverage pandas operations to only select high networth individuals with minimum $5000 \n- What is the combined networth for all customers with 5000+ networth?",
      "metadata": {}
    },
    {
      "cell_type": "code",
      "source": "df_high_networth = bank_client_df[ bank_client_df['Net Worth ($)']>= 5000]\ndf_high_networth\n\ndf_high_networth['Net Worth ($)'].sum()",
      "metadata": {},
      "execution_count": 48,
      "outputs": [
        {
          "execution_count": 48,
          "output_type": "execute_result",
          "data": {
            "text/plain": [
              "17799"
            ]
          },
          "metadata": {}
        }
      ]
    },
    {
      "cell_type": "markdown",
      "source": "# TASK #9: PANDAS WITH FUNCTIONS",
      "metadata": {}
    },
    {
      "cell_type": "code",
      "source": "# Let's define a dataframe as follows:\nbank_client_df = pd.DataFrame({'Bank client ID':[111, 222, 333, 444], \n                               'Bank Client Name':['Chanel', 'Steve', 'Mitch', 'Ryan'], \n                               'Net worth [$]':[3500, 29000, 10000, 2000], \n                               'Years with bank':[3, 4, 9, 5]})\nbank_client_df",
      "metadata": {},
      "execution_count": 49,
      "outputs": [
        {
          "execution_count": 49,
          "output_type": "execute_result",
          "data": {
            "text/html": [
              "<div>\n",
              "<style scoped>\n",
              "    .dataframe tbody tr th:only-of-type {\n",
              "        vertical-align: middle;\n",
              "    }\n",
              "\n",
              "    .dataframe tbody tr th {\n",
              "        vertical-align: top;\n",
              "    }\n",
              "\n",
              "    .dataframe thead th {\n",
              "        text-align: right;\n",
              "    }\n",
              "</style>\n",
              "<table border=\"1\" class=\"dataframe\">\n",
              "  <thead>\n",
              "    <tr style=\"text-align: right;\">\n",
              "      <th></th>\n",
              "      <th>Bank client ID</th>\n",
              "      <th>Bank Client Name</th>\n",
              "      <th>Net worth [$]</th>\n",
              "      <th>Years with bank</th>\n",
              "    </tr>\n",
              "  </thead>\n",
              "  <tbody>\n",
              "    <tr>\n",
              "      <th>0</th>\n",
              "      <td>111</td>\n",
              "      <td>Chanel</td>\n",
              "      <td>3500</td>\n",
              "      <td>3</td>\n",
              "    </tr>\n",
              "    <tr>\n",
              "      <th>1</th>\n",
              "      <td>222</td>\n",
              "      <td>Steve</td>\n",
              "      <td>29000</td>\n",
              "      <td>4</td>\n",
              "    </tr>\n",
              "    <tr>\n",
              "      <th>2</th>\n",
              "      <td>333</td>\n",
              "      <td>Mitch</td>\n",
              "      <td>10000</td>\n",
              "      <td>9</td>\n",
              "    </tr>\n",
              "    <tr>\n",
              "      <th>3</th>\n",
              "      <td>444</td>\n",
              "      <td>Ryan</td>\n",
              "      <td>2000</td>\n",
              "      <td>5</td>\n",
              "    </tr>\n",
              "  </tbody>\n",
              "</table>\n",
              "</div>"
            ],
            "text/plain": [
              "   Bank client ID Bank Client Name  Net worth [$]  Years with bank\n",
              "0             111           Chanel           3500                3\n",
              "1             222            Steve          29000                4\n",
              "2             333            Mitch          10000                9\n",
              "3             444             Ryan           2000                5"
            ]
          },
          "metadata": {}
        }
      ]
    },
    {
      "cell_type": "code",
      "source": "# Define a function that increases all clients networth (stocks) by a fixed value of 20% (for simplicity sake) \ndef inc_networth(balance):\n    return balance *1.2",
      "metadata": {},
      "execution_count": 50,
      "outputs": []
    },
    {
      "cell_type": "code",
      "source": "# You can apply a function to the DataFrame \nbank_client_df['Net worth [$]'].apply(inc_networth)",
      "metadata": {},
      "execution_count": 51,
      "outputs": [
        {
          "execution_count": 51,
          "output_type": "execute_result",
          "data": {
            "text/plain": [
              "0     4200.0\n",
              "1    34800.0\n",
              "2    12000.0\n",
              "3     2400.0\n",
              "Name: Net worth [$], dtype: float64"
            ]
          },
          "metadata": {}
        }
      ]
    },
    {
      "cell_type": "code",
      "source": "bank_client_df['Bank Client Name'].apply(len)",
      "metadata": {},
      "execution_count": 52,
      "outputs": [
        {
          "execution_count": 52,
          "output_type": "execute_result",
          "data": {
            "text/plain": [
              "0    6\n",
              "1    5\n",
              "2    5\n",
              "3    4\n",
              "Name: Bank Client Name, dtype: int64"
            ]
          },
          "metadata": {}
        }
      ]
    },
    {
      "cell_type": "markdown",
      "source": "MINI CHALLENGE #9:\n- Define a function that triples the stock prices and adds $200\n- Apply the function to the DataFrame\n- Calculate the updated total networth of all clients combined",
      "metadata": {}
    },
    {
      "cell_type": "code",
      "source": "def inc_stock(balance):\n    return balance * 3+200",
      "metadata": {},
      "execution_count": 53,
      "outputs": []
    },
    {
      "cell_type": "code",
      "source": "results = bank_client_df['Net worth [$]'].apply(inc_stock)\nresults",
      "metadata": {},
      "execution_count": 54,
      "outputs": [
        {
          "execution_count": 54,
          "output_type": "execute_result",
          "data": {
            "text/plain": [
              "0    10700\n",
              "1    87200\n",
              "2    30200\n",
              "3     6200\n",
              "Name: Net worth [$], dtype: int64"
            ]
          },
          "metadata": {}
        }
      ]
    },
    {
      "cell_type": "code",
      "source": "results.sum()",
      "metadata": {},
      "execution_count": 55,
      "outputs": [
        {
          "execution_count": 55,
          "output_type": "execute_result",
          "data": {
            "text/plain": [
              "134300"
            ]
          },
          "metadata": {}
        }
      ]
    },
    {
      "cell_type": "markdown",
      "source": "# TASK #10: PERFORM SORTING AND ORDERING IN PANDAS",
      "metadata": {}
    },
    {
      "cell_type": "code",
      "source": "# Let's define a dataframe as follows:\nbank_client_df = pd.DataFrame({'Bank client ID':[111, 222, 333, 444], \n                               'Bank Client Name':['Chanel', 'Steve', 'Mitch', 'Ryan'], \n                               'Net worth [$]':[3500, 29000, 10000, 2000], \n                               'Years with bank':[3, 4, 9, 5]})\nbank_client_df",
      "metadata": {},
      "execution_count": 56,
      "outputs": [
        {
          "execution_count": 56,
          "output_type": "execute_result",
          "data": {
            "text/html": [
              "<div>\n",
              "<style scoped>\n",
              "    .dataframe tbody tr th:only-of-type {\n",
              "        vertical-align: middle;\n",
              "    }\n",
              "\n",
              "    .dataframe tbody tr th {\n",
              "        vertical-align: top;\n",
              "    }\n",
              "\n",
              "    .dataframe thead th {\n",
              "        text-align: right;\n",
              "    }\n",
              "</style>\n",
              "<table border=\"1\" class=\"dataframe\">\n",
              "  <thead>\n",
              "    <tr style=\"text-align: right;\">\n",
              "      <th></th>\n",
              "      <th>Bank client ID</th>\n",
              "      <th>Bank Client Name</th>\n",
              "      <th>Net worth [$]</th>\n",
              "      <th>Years with bank</th>\n",
              "    </tr>\n",
              "  </thead>\n",
              "  <tbody>\n",
              "    <tr>\n",
              "      <th>0</th>\n",
              "      <td>111</td>\n",
              "      <td>Chanel</td>\n",
              "      <td>3500</td>\n",
              "      <td>3</td>\n",
              "    </tr>\n",
              "    <tr>\n",
              "      <th>1</th>\n",
              "      <td>222</td>\n",
              "      <td>Steve</td>\n",
              "      <td>29000</td>\n",
              "      <td>4</td>\n",
              "    </tr>\n",
              "    <tr>\n",
              "      <th>2</th>\n",
              "      <td>333</td>\n",
              "      <td>Mitch</td>\n",
              "      <td>10000</td>\n",
              "      <td>9</td>\n",
              "    </tr>\n",
              "    <tr>\n",
              "      <th>3</th>\n",
              "      <td>444</td>\n",
              "      <td>Ryan</td>\n",
              "      <td>2000</td>\n",
              "      <td>5</td>\n",
              "    </tr>\n",
              "  </tbody>\n",
              "</table>\n",
              "</div>"
            ],
            "text/plain": [
              "   Bank client ID Bank Client Name  Net worth [$]  Years with bank\n",
              "0             111           Chanel           3500                3\n",
              "1             222            Steve          29000                4\n",
              "2             333            Mitch          10000                9\n",
              "3             444             Ryan           2000                5"
            ]
          },
          "metadata": {}
        }
      ]
    },
    {
      "cell_type": "code",
      "source": "# You can sort the values in the dataframe according to number of years with bank\nbank_client_df.sort_values(by = 'Years with bank')",
      "metadata": {},
      "execution_count": 79,
      "outputs": [
        {
          "execution_count": 79,
          "output_type": "execute_result",
          "data": {
            "text/html": [
              "<div>\n",
              "<style scoped>\n",
              "    .dataframe tbody tr th:only-of-type {\n",
              "        vertical-align: middle;\n",
              "    }\n",
              "\n",
              "    .dataframe tbody tr th {\n",
              "        vertical-align: top;\n",
              "    }\n",
              "\n",
              "    .dataframe thead th {\n",
              "        text-align: right;\n",
              "    }\n",
              "</style>\n",
              "<table border=\"1\" class=\"dataframe\">\n",
              "  <thead>\n",
              "    <tr style=\"text-align: right;\">\n",
              "      <th></th>\n",
              "      <th>Bank client ID</th>\n",
              "      <th>Bank Client Name</th>\n",
              "      <th>Net worth [$]</th>\n",
              "      <th>Years with bank</th>\n",
              "    </tr>\n",
              "  </thead>\n",
              "  <tbody>\n",
              "    <tr>\n",
              "      <th>0</th>\n",
              "      <td>111</td>\n",
              "      <td>Chanel</td>\n",
              "      <td>3500</td>\n",
              "      <td>3</td>\n",
              "    </tr>\n",
              "    <tr>\n",
              "      <th>1</th>\n",
              "      <td>222</td>\n",
              "      <td>Steve</td>\n",
              "      <td>29000</td>\n",
              "      <td>4</td>\n",
              "    </tr>\n",
              "    <tr>\n",
              "      <th>3</th>\n",
              "      <td>444</td>\n",
              "      <td>Ryan</td>\n",
              "      <td>2000</td>\n",
              "      <td>5</td>\n",
              "    </tr>\n",
              "    <tr>\n",
              "      <th>2</th>\n",
              "      <td>333</td>\n",
              "      <td>Mitch</td>\n",
              "      <td>10000</td>\n",
              "      <td>9</td>\n",
              "    </tr>\n",
              "  </tbody>\n",
              "</table>\n",
              "</div>"
            ],
            "text/plain": [
              "   Bank client ID Bank Client Name  Net worth [$]  Years with bank\n",
              "0             111           Chanel           3500                3\n",
              "1             222            Steve          29000                4\n",
              "3             444             Ryan           2000                5\n",
              "2             333            Mitch          10000                9"
            ]
          },
          "metadata": {}
        }
      ]
    },
    {
      "cell_type": "code",
      "source": "# Note that nothing changed in memory! you have to make sure that inplace is set to True\nbank_client_df",
      "metadata": {},
      "execution_count": 80,
      "outputs": [
        {
          "execution_count": 80,
          "output_type": "execute_result",
          "data": {
            "text/html": [
              "<div>\n",
              "<style scoped>\n",
              "    .dataframe tbody tr th:only-of-type {\n",
              "        vertical-align: middle;\n",
              "    }\n",
              "\n",
              "    .dataframe tbody tr th {\n",
              "        vertical-align: top;\n",
              "    }\n",
              "\n",
              "    .dataframe thead th {\n",
              "        text-align: right;\n",
              "    }\n",
              "</style>\n",
              "<table border=\"1\" class=\"dataframe\">\n",
              "  <thead>\n",
              "    <tr style=\"text-align: right;\">\n",
              "      <th></th>\n",
              "      <th>Bank client ID</th>\n",
              "      <th>Bank Client Name</th>\n",
              "      <th>Net worth [$]</th>\n",
              "      <th>Years with bank</th>\n",
              "    </tr>\n",
              "  </thead>\n",
              "  <tbody>\n",
              "    <tr>\n",
              "      <th>0</th>\n",
              "      <td>111</td>\n",
              "      <td>Chanel</td>\n",
              "      <td>3500</td>\n",
              "      <td>3</td>\n",
              "    </tr>\n",
              "    <tr>\n",
              "      <th>1</th>\n",
              "      <td>222</td>\n",
              "      <td>Steve</td>\n",
              "      <td>29000</td>\n",
              "      <td>4</td>\n",
              "    </tr>\n",
              "    <tr>\n",
              "      <th>2</th>\n",
              "      <td>333</td>\n",
              "      <td>Mitch</td>\n",
              "      <td>10000</td>\n",
              "      <td>9</td>\n",
              "    </tr>\n",
              "    <tr>\n",
              "      <th>3</th>\n",
              "      <td>444</td>\n",
              "      <td>Ryan</td>\n",
              "      <td>2000</td>\n",
              "      <td>5</td>\n",
              "    </tr>\n",
              "  </tbody>\n",
              "</table>\n",
              "</div>"
            ],
            "text/plain": [
              "   Bank client ID Bank Client Name  Net worth [$]  Years with bank\n",
              "0             111           Chanel           3500                3\n",
              "1             222            Steve          29000                4\n",
              "2             333            Mitch          10000                9\n",
              "3             444             Ryan           2000                5"
            ]
          },
          "metadata": {}
        }
      ]
    },
    {
      "cell_type": "code",
      "source": "# Set inplace = True to ensure that change has taken place in memory \nbank_client_df.sort_values(by = 'Years with bank', inplace = True)",
      "metadata": {},
      "execution_count": 82,
      "outputs": []
    },
    {
      "cell_type": "code",
      "source": "# Note that now the change (ordering) took place \nbank_client_df",
      "metadata": {},
      "execution_count": 83,
      "outputs": [
        {
          "execution_count": 83,
          "output_type": "execute_result",
          "data": {
            "text/html": [
              "<div>\n",
              "<style scoped>\n",
              "    .dataframe tbody tr th:only-of-type {\n",
              "        vertical-align: middle;\n",
              "    }\n",
              "\n",
              "    .dataframe tbody tr th {\n",
              "        vertical-align: top;\n",
              "    }\n",
              "\n",
              "    .dataframe thead th {\n",
              "        text-align: right;\n",
              "    }\n",
              "</style>\n",
              "<table border=\"1\" class=\"dataframe\">\n",
              "  <thead>\n",
              "    <tr style=\"text-align: right;\">\n",
              "      <th></th>\n",
              "      <th>Bank client ID</th>\n",
              "      <th>Bank Client Name</th>\n",
              "      <th>Net worth [$]</th>\n",
              "      <th>Years with bank</th>\n",
              "    </tr>\n",
              "  </thead>\n",
              "  <tbody>\n",
              "    <tr>\n",
              "      <th>0</th>\n",
              "      <td>111</td>\n",
              "      <td>Chanel</td>\n",
              "      <td>3500</td>\n",
              "      <td>3</td>\n",
              "    </tr>\n",
              "    <tr>\n",
              "      <th>1</th>\n",
              "      <td>222</td>\n",
              "      <td>Steve</td>\n",
              "      <td>29000</td>\n",
              "      <td>4</td>\n",
              "    </tr>\n",
              "    <tr>\n",
              "      <th>3</th>\n",
              "      <td>444</td>\n",
              "      <td>Ryan</td>\n",
              "      <td>2000</td>\n",
              "      <td>5</td>\n",
              "    </tr>\n",
              "    <tr>\n",
              "      <th>2</th>\n",
              "      <td>333</td>\n",
              "      <td>Mitch</td>\n",
              "      <td>10000</td>\n",
              "      <td>9</td>\n",
              "    </tr>\n",
              "  </tbody>\n",
              "</table>\n",
              "</div>"
            ],
            "text/plain": [
              "   Bank client ID Bank Client Name  Net worth [$]  Years with bank\n",
              "0             111           Chanel           3500                3\n",
              "1             222            Steve          29000                4\n",
              "3             444             Ryan           2000                5\n",
              "2             333            Mitch          10000                9"
            ]
          },
          "metadata": {}
        }
      ]
    },
    {
      "cell_type": "markdown",
      "source": "# TASK #11: PERFORM CONCATENATING AND MERGING WITH PANDAS",
      "metadata": {}
    },
    {
      "cell_type": "code",
      "source": "# Check this out: https://pandas.pydata.org/pandas-docs/stable/user_guide/merging.html",
      "metadata": {},
      "execution_count": 61,
      "outputs": []
    },
    {
      "cell_type": "code",
      "source": "df1 = pd.DataFrame({ 'A': ['A0', 'A1', 'A2','A3'],\n                   'B': ['B0', 'B1','B2','B3'],\n                   'C': ['C0', 'C1','C2','C3'],\n                  'D': ['D0', 'D1','D2','D3'] }, index = [0,1,2,3])\ndf1",
      "metadata": {},
      "execution_count": 87,
      "outputs": [
        {
          "execution_count": 87,
          "output_type": "execute_result",
          "data": {
            "text/html": [
              "<div>\n",
              "<style scoped>\n",
              "    .dataframe tbody tr th:only-of-type {\n",
              "        vertical-align: middle;\n",
              "    }\n",
              "\n",
              "    .dataframe tbody tr th {\n",
              "        vertical-align: top;\n",
              "    }\n",
              "\n",
              "    .dataframe thead th {\n",
              "        text-align: right;\n",
              "    }\n",
              "</style>\n",
              "<table border=\"1\" class=\"dataframe\">\n",
              "  <thead>\n",
              "    <tr style=\"text-align: right;\">\n",
              "      <th></th>\n",
              "      <th>A</th>\n",
              "      <th>B</th>\n",
              "      <th>C</th>\n",
              "      <th>D</th>\n",
              "    </tr>\n",
              "  </thead>\n",
              "  <tbody>\n",
              "    <tr>\n",
              "      <th>0</th>\n",
              "      <td>A0</td>\n",
              "      <td>B0</td>\n",
              "      <td>C0</td>\n",
              "      <td>D0</td>\n",
              "    </tr>\n",
              "    <tr>\n",
              "      <th>1</th>\n",
              "      <td>A1</td>\n",
              "      <td>B1</td>\n",
              "      <td>C1</td>\n",
              "      <td>D1</td>\n",
              "    </tr>\n",
              "    <tr>\n",
              "      <th>2</th>\n",
              "      <td>A2</td>\n",
              "      <td>B2</td>\n",
              "      <td>C2</td>\n",
              "      <td>D2</td>\n",
              "    </tr>\n",
              "    <tr>\n",
              "      <th>3</th>\n",
              "      <td>A3</td>\n",
              "      <td>B3</td>\n",
              "      <td>C3</td>\n",
              "      <td>D3</td>\n",
              "    </tr>\n",
              "  </tbody>\n",
              "</table>\n",
              "</div>"
            ],
            "text/plain": [
              "    A   B   C   D\n",
              "0  A0  B0  C0  D0\n",
              "1  A1  B1  C1  D1\n",
              "2  A2  B2  C2  D2\n",
              "3  A3  B3  C3  D3"
            ]
          },
          "metadata": {}
        }
      ]
    },
    {
      "cell_type": "code",
      "source": "df2 = pd.DataFrame({ 'A': ['A4', 'A5', 'A6','A7'],\n                   'B': ['B4', 'B5','B6','B7'],\n                   'C': ['C4', 'C5','C6','C7'],\n                  'D': ['D4', 'D5','D6','D7'] }, index = [4,5,6,7])\ndf2",
      "metadata": {},
      "execution_count": 89,
      "outputs": [
        {
          "execution_count": 89,
          "output_type": "execute_result",
          "data": {
            "text/html": [
              "<div>\n",
              "<style scoped>\n",
              "    .dataframe tbody tr th:only-of-type {\n",
              "        vertical-align: middle;\n",
              "    }\n",
              "\n",
              "    .dataframe tbody tr th {\n",
              "        vertical-align: top;\n",
              "    }\n",
              "\n",
              "    .dataframe thead th {\n",
              "        text-align: right;\n",
              "    }\n",
              "</style>\n",
              "<table border=\"1\" class=\"dataframe\">\n",
              "  <thead>\n",
              "    <tr style=\"text-align: right;\">\n",
              "      <th></th>\n",
              "      <th>A</th>\n",
              "      <th>B</th>\n",
              "      <th>C</th>\n",
              "      <th>D</th>\n",
              "    </tr>\n",
              "  </thead>\n",
              "  <tbody>\n",
              "    <tr>\n",
              "      <th>4</th>\n",
              "      <td>A4</td>\n",
              "      <td>B4</td>\n",
              "      <td>C4</td>\n",
              "      <td>D4</td>\n",
              "    </tr>\n",
              "    <tr>\n",
              "      <th>5</th>\n",
              "      <td>A5</td>\n",
              "      <td>B5</td>\n",
              "      <td>C5</td>\n",
              "      <td>D5</td>\n",
              "    </tr>\n",
              "    <tr>\n",
              "      <th>6</th>\n",
              "      <td>A6</td>\n",
              "      <td>B6</td>\n",
              "      <td>C6</td>\n",
              "      <td>D6</td>\n",
              "    </tr>\n",
              "    <tr>\n",
              "      <th>7</th>\n",
              "      <td>A7</td>\n",
              "      <td>B7</td>\n",
              "      <td>C7</td>\n",
              "      <td>D7</td>\n",
              "    </tr>\n",
              "  </tbody>\n",
              "</table>\n",
              "</div>"
            ],
            "text/plain": [
              "    A   B   C   D\n",
              "4  A4  B4  C4  D4\n",
              "5  A5  B5  C5  D5\n",
              "6  A6  B6  C6  D6\n",
              "7  A7  B7  C7  D7"
            ]
          },
          "metadata": {}
        }
      ]
    },
    {
      "cell_type": "code",
      "source": "pd.concat([df1,df2])",
      "metadata": {},
      "execution_count": 91,
      "outputs": [
        {
          "execution_count": 91,
          "output_type": "execute_result",
          "data": {
            "text/html": [
              "<div>\n",
              "<style scoped>\n",
              "    .dataframe tbody tr th:only-of-type {\n",
              "        vertical-align: middle;\n",
              "    }\n",
              "\n",
              "    .dataframe tbody tr th {\n",
              "        vertical-align: top;\n",
              "    }\n",
              "\n",
              "    .dataframe thead th {\n",
              "        text-align: right;\n",
              "    }\n",
              "</style>\n",
              "<table border=\"1\" class=\"dataframe\">\n",
              "  <thead>\n",
              "    <tr style=\"text-align: right;\">\n",
              "      <th></th>\n",
              "      <th>A</th>\n",
              "      <th>B</th>\n",
              "      <th>C</th>\n",
              "      <th>D</th>\n",
              "    </tr>\n",
              "  </thead>\n",
              "  <tbody>\n",
              "    <tr>\n",
              "      <th>0</th>\n",
              "      <td>A0</td>\n",
              "      <td>B0</td>\n",
              "      <td>C0</td>\n",
              "      <td>D0</td>\n",
              "    </tr>\n",
              "    <tr>\n",
              "      <th>1</th>\n",
              "      <td>A1</td>\n",
              "      <td>B1</td>\n",
              "      <td>C1</td>\n",
              "      <td>D1</td>\n",
              "    </tr>\n",
              "    <tr>\n",
              "      <th>2</th>\n",
              "      <td>A2</td>\n",
              "      <td>B2</td>\n",
              "      <td>C2</td>\n",
              "      <td>D2</td>\n",
              "    </tr>\n",
              "    <tr>\n",
              "      <th>3</th>\n",
              "      <td>A3</td>\n",
              "      <td>B3</td>\n",
              "      <td>C3</td>\n",
              "      <td>D3</td>\n",
              "    </tr>\n",
              "    <tr>\n",
              "      <th>4</th>\n",
              "      <td>A4</td>\n",
              "      <td>B4</td>\n",
              "      <td>C4</td>\n",
              "      <td>D4</td>\n",
              "    </tr>\n",
              "    <tr>\n",
              "      <th>5</th>\n",
              "      <td>A5</td>\n",
              "      <td>B5</td>\n",
              "      <td>C5</td>\n",
              "      <td>D5</td>\n",
              "    </tr>\n",
              "    <tr>\n",
              "      <th>6</th>\n",
              "      <td>A6</td>\n",
              "      <td>B6</td>\n",
              "      <td>C6</td>\n",
              "      <td>D6</td>\n",
              "    </tr>\n",
              "    <tr>\n",
              "      <th>7</th>\n",
              "      <td>A7</td>\n",
              "      <td>B7</td>\n",
              "      <td>C7</td>\n",
              "      <td>D7</td>\n",
              "    </tr>\n",
              "  </tbody>\n",
              "</table>\n",
              "</div>"
            ],
            "text/plain": [
              "    A   B   C   D\n",
              "0  A0  B0  C0  D0\n",
              "1  A1  B1  C1  D1\n",
              "2  A2  B2  C2  D2\n",
              "3  A3  B3  C3  D3\n",
              "4  A4  B4  C4  D4\n",
              "5  A5  B5  C5  D5\n",
              "6  A6  B6  C6  D6\n",
              "7  A7  B7  C7  D7"
            ]
          },
          "metadata": {}
        }
      ]
    },
    {
      "cell_type": "code",
      "source": "",
      "metadata": {},
      "execution_count": null,
      "outputs": []
    },
    {
      "cell_type": "code",
      "source": "",
      "metadata": {},
      "execution_count": null,
      "outputs": []
    },
    {
      "cell_type": "code",
      "source": "",
      "metadata": {},
      "execution_count": null,
      "outputs": []
    },
    {
      "cell_type": "code",
      "source": "",
      "metadata": {},
      "execution_count": null,
      "outputs": []
    },
    {
      "cell_type": "markdown",
      "source": "# TASK #12: PROJECT AND CONCLUDING REMARKS",
      "metadata": {}
    },
    {
      "cell_type": "markdown",
      "source": "- Define a dataframe named 'Bank_df_1' that contains the first and last names for 5 bank clients with IDs = 1, 2, 3, 4, 5 \n- Assume that the bank got 5 new clients, define another dataframe named 'Bank_df_2' that contains a new clients with IDs = 6, 7, 8, 9, 10\n- Let's assume we obtained additional information (Annual Salary) about all our bank customers (10 customers) \n- Concatenate both 'bank_df_1' and 'bank_df_2' dataframes\n- Merge client names and their newly added salary information using the 'Bank Client ID'\n- Let's assume that you became a new client to the bank\n- Define a new DataFrame that contains your information such as client ID (choose 11), first name, last name, and annual salary.\n- Add this new dataframe to the original dataframe 'bank_df_all'.",
      "metadata": {}
    },
    {
      "cell_type": "code",
      "source": "raw_data = { 'Bank Client ID' : ['1','2','3','4','5'],\n           'First Name': ['Nancy', 'Ram', ' Shyam','Bob','Alam'],\n           'Last Name': ['Rob','Kapoor','Mangal','Singh','George']}\nBank_df_1 = pd.DataFrame(raw_data, columns = ['Bank Client ID', 'First Name', 'Last Name'])\nBank_df_1",
      "metadata": {},
      "execution_count": 93,
      "outputs": [
        {
          "execution_count": 93,
          "output_type": "execute_result",
          "data": {
            "text/html": [
              "<div>\n",
              "<style scoped>\n",
              "    .dataframe tbody tr th:only-of-type {\n",
              "        vertical-align: middle;\n",
              "    }\n",
              "\n",
              "    .dataframe tbody tr th {\n",
              "        vertical-align: top;\n",
              "    }\n",
              "\n",
              "    .dataframe thead th {\n",
              "        text-align: right;\n",
              "    }\n",
              "</style>\n",
              "<table border=\"1\" class=\"dataframe\">\n",
              "  <thead>\n",
              "    <tr style=\"text-align: right;\">\n",
              "      <th></th>\n",
              "      <th>Bank Client ID</th>\n",
              "      <th>First Name</th>\n",
              "      <th>Last Name</th>\n",
              "    </tr>\n",
              "  </thead>\n",
              "  <tbody>\n",
              "    <tr>\n",
              "      <th>0</th>\n",
              "      <td>1</td>\n",
              "      <td>Nancy</td>\n",
              "      <td>Rob</td>\n",
              "    </tr>\n",
              "    <tr>\n",
              "      <th>1</th>\n",
              "      <td>2</td>\n",
              "      <td>Ram</td>\n",
              "      <td>Kapoor</td>\n",
              "    </tr>\n",
              "    <tr>\n",
              "      <th>2</th>\n",
              "      <td>3</td>\n",
              "      <td>Shyam</td>\n",
              "      <td>Mangal</td>\n",
              "    </tr>\n",
              "    <tr>\n",
              "      <th>3</th>\n",
              "      <td>4</td>\n",
              "      <td>Bob</td>\n",
              "      <td>Singh</td>\n",
              "    </tr>\n",
              "    <tr>\n",
              "      <th>4</th>\n",
              "      <td>5</td>\n",
              "      <td>Alam</td>\n",
              "      <td>George</td>\n",
              "    </tr>\n",
              "  </tbody>\n",
              "</table>\n",
              "</div>"
            ],
            "text/plain": [
              "  Bank Client ID First Name Last Name\n",
              "0              1      Nancy       Rob\n",
              "1              2        Ram    Kapoor\n",
              "2              3      Shyam    Mangal\n",
              "3              4        Bob     Singh\n",
              "4              5       Alam    George"
            ]
          },
          "metadata": {}
        }
      ]
    },
    {
      "cell_type": "code",
      "source": "raw_data = { 'Bank Client ID' : ['6','7','8','9','10'],\n           'First Name': ['Ausk', 'Mr', ' SHaider','Tim','Cook'],\n           'Last Name': ['Rob','Kapoor','Mangal','Singh','George']}\nBank_df_2 = pd.DataFrame(raw_data, columns = ['Bank Client ID', 'First Name', 'Last Name'])\nBank_df_2",
      "metadata": {},
      "execution_count": 94,
      "outputs": [
        {
          "execution_count": 94,
          "output_type": "execute_result",
          "data": {
            "text/html": [
              "<div>\n",
              "<style scoped>\n",
              "    .dataframe tbody tr th:only-of-type {\n",
              "        vertical-align: middle;\n",
              "    }\n",
              "\n",
              "    .dataframe tbody tr th {\n",
              "        vertical-align: top;\n",
              "    }\n",
              "\n",
              "    .dataframe thead th {\n",
              "        text-align: right;\n",
              "    }\n",
              "</style>\n",
              "<table border=\"1\" class=\"dataframe\">\n",
              "  <thead>\n",
              "    <tr style=\"text-align: right;\">\n",
              "      <th></th>\n",
              "      <th>Bank Client ID</th>\n",
              "      <th>First Name</th>\n",
              "      <th>Last Name</th>\n",
              "    </tr>\n",
              "  </thead>\n",
              "  <tbody>\n",
              "    <tr>\n",
              "      <th>0</th>\n",
              "      <td>6</td>\n",
              "      <td>Ausk</td>\n",
              "      <td>Rob</td>\n",
              "    </tr>\n",
              "    <tr>\n",
              "      <th>1</th>\n",
              "      <td>7</td>\n",
              "      <td>Mr</td>\n",
              "      <td>Kapoor</td>\n",
              "    </tr>\n",
              "    <tr>\n",
              "      <th>2</th>\n",
              "      <td>8</td>\n",
              "      <td>SHaider</td>\n",
              "      <td>Mangal</td>\n",
              "    </tr>\n",
              "    <tr>\n",
              "      <th>3</th>\n",
              "      <td>9</td>\n",
              "      <td>Tim</td>\n",
              "      <td>Singh</td>\n",
              "    </tr>\n",
              "    <tr>\n",
              "      <th>4</th>\n",
              "      <td>10</td>\n",
              "      <td>Cook</td>\n",
              "      <td>George</td>\n",
              "    </tr>\n",
              "  </tbody>\n",
              "</table>\n",
              "</div>"
            ],
            "text/plain": [
              "  Bank Client ID First Name Last Name\n",
              "0              6       Ausk       Rob\n",
              "1              7         Mr    Kapoor\n",
              "2              8    SHaider    Mangal\n",
              "3              9        Tim     Singh\n",
              "4             10       Cook    George"
            ]
          },
          "metadata": {}
        }
      ]
    },
    {
      "cell_type": "code",
      "source": "raw_data = { 'Bank Client ID' : ['1','2','3','4','5','6','7','8','9','10'],\n           'Annual Salary [$/year]' : [23000, 12000, 45000, 23000, 12389, 67000, 45673, 45367, 99000, 123000]}\nbank_df_salary = pd.DataFrame(raw_data, columns=['Bank Client ID', 'Annual Salary [$/year]' ] )\nbank_df_salary",
      "metadata": {},
      "execution_count": 96,
      "outputs": [
        {
          "execution_count": 96,
          "output_type": "execute_result",
          "data": {
            "text/html": [
              "<div>\n",
              "<style scoped>\n",
              "    .dataframe tbody tr th:only-of-type {\n",
              "        vertical-align: middle;\n",
              "    }\n",
              "\n",
              "    .dataframe tbody tr th {\n",
              "        vertical-align: top;\n",
              "    }\n",
              "\n",
              "    .dataframe thead th {\n",
              "        text-align: right;\n",
              "    }\n",
              "</style>\n",
              "<table border=\"1\" class=\"dataframe\">\n",
              "  <thead>\n",
              "    <tr style=\"text-align: right;\">\n",
              "      <th></th>\n",
              "      <th>Bank Client ID</th>\n",
              "      <th>Annual Salary [$/year]</th>\n",
              "    </tr>\n",
              "  </thead>\n",
              "  <tbody>\n",
              "    <tr>\n",
              "      <th>0</th>\n",
              "      <td>1</td>\n",
              "      <td>23000</td>\n",
              "    </tr>\n",
              "    <tr>\n",
              "      <th>1</th>\n",
              "      <td>2</td>\n",
              "      <td>12000</td>\n",
              "    </tr>\n",
              "    <tr>\n",
              "      <th>2</th>\n",
              "      <td>3</td>\n",
              "      <td>45000</td>\n",
              "    </tr>\n",
              "    <tr>\n",
              "      <th>3</th>\n",
              "      <td>4</td>\n",
              "      <td>23000</td>\n",
              "    </tr>\n",
              "    <tr>\n",
              "      <th>4</th>\n",
              "      <td>5</td>\n",
              "      <td>12389</td>\n",
              "    </tr>\n",
              "    <tr>\n",
              "      <th>5</th>\n",
              "      <td>6</td>\n",
              "      <td>67000</td>\n",
              "    </tr>\n",
              "    <tr>\n",
              "      <th>6</th>\n",
              "      <td>7</td>\n",
              "      <td>45673</td>\n",
              "    </tr>\n",
              "    <tr>\n",
              "      <th>7</th>\n",
              "      <td>8</td>\n",
              "      <td>45367</td>\n",
              "    </tr>\n",
              "    <tr>\n",
              "      <th>8</th>\n",
              "      <td>9</td>\n",
              "      <td>99000</td>\n",
              "    </tr>\n",
              "    <tr>\n",
              "      <th>9</th>\n",
              "      <td>10</td>\n",
              "      <td>123000</td>\n",
              "    </tr>\n",
              "  </tbody>\n",
              "</table>\n",
              "</div>"
            ],
            "text/plain": [
              "  Bank Client ID  Annual Salary [$/year]\n",
              "0              1                   23000\n",
              "1              2                   12000\n",
              "2              3                   45000\n",
              "3              4                   23000\n",
              "4              5                   12389\n",
              "5              6                   67000\n",
              "6              7                   45673\n",
              "7              8                   45367\n",
              "8              9                   99000\n",
              "9             10                  123000"
            ]
          },
          "metadata": {}
        }
      ]
    },
    {
      "cell_type": "code",
      "source": "bank_df_all = pd.concat([Bank_df_1, Bank_df_2])\nbank_df_all",
      "metadata": {},
      "execution_count": 102,
      "outputs": [
        {
          "execution_count": 102,
          "output_type": "execute_result",
          "data": {
            "text/html": [
              "<div>\n",
              "<style scoped>\n",
              "    .dataframe tbody tr th:only-of-type {\n",
              "        vertical-align: middle;\n",
              "    }\n",
              "\n",
              "    .dataframe tbody tr th {\n",
              "        vertical-align: top;\n",
              "    }\n",
              "\n",
              "    .dataframe thead th {\n",
              "        text-align: right;\n",
              "    }\n",
              "</style>\n",
              "<table border=\"1\" class=\"dataframe\">\n",
              "  <thead>\n",
              "    <tr style=\"text-align: right;\">\n",
              "      <th></th>\n",
              "      <th>Bank Client ID</th>\n",
              "      <th>First Name</th>\n",
              "      <th>Last Name</th>\n",
              "    </tr>\n",
              "  </thead>\n",
              "  <tbody>\n",
              "    <tr>\n",
              "      <th>0</th>\n",
              "      <td>1</td>\n",
              "      <td>Nancy</td>\n",
              "      <td>Rob</td>\n",
              "    </tr>\n",
              "    <tr>\n",
              "      <th>1</th>\n",
              "      <td>2</td>\n",
              "      <td>Ram</td>\n",
              "      <td>Kapoor</td>\n",
              "    </tr>\n",
              "    <tr>\n",
              "      <th>2</th>\n",
              "      <td>3</td>\n",
              "      <td>Shyam</td>\n",
              "      <td>Mangal</td>\n",
              "    </tr>\n",
              "    <tr>\n",
              "      <th>3</th>\n",
              "      <td>4</td>\n",
              "      <td>Bob</td>\n",
              "      <td>Singh</td>\n",
              "    </tr>\n",
              "    <tr>\n",
              "      <th>4</th>\n",
              "      <td>5</td>\n",
              "      <td>Alam</td>\n",
              "      <td>George</td>\n",
              "    </tr>\n",
              "    <tr>\n",
              "      <th>0</th>\n",
              "      <td>6</td>\n",
              "      <td>Ausk</td>\n",
              "      <td>Rob</td>\n",
              "    </tr>\n",
              "    <tr>\n",
              "      <th>1</th>\n",
              "      <td>7</td>\n",
              "      <td>Mr</td>\n",
              "      <td>Kapoor</td>\n",
              "    </tr>\n",
              "    <tr>\n",
              "      <th>2</th>\n",
              "      <td>8</td>\n",
              "      <td>SHaider</td>\n",
              "      <td>Mangal</td>\n",
              "    </tr>\n",
              "    <tr>\n",
              "      <th>3</th>\n",
              "      <td>9</td>\n",
              "      <td>Tim</td>\n",
              "      <td>Singh</td>\n",
              "    </tr>\n",
              "    <tr>\n",
              "      <th>4</th>\n",
              "      <td>10</td>\n",
              "      <td>Cook</td>\n",
              "      <td>George</td>\n",
              "    </tr>\n",
              "  </tbody>\n",
              "</table>\n",
              "</div>"
            ],
            "text/plain": [
              "  Bank Client ID First Name Last Name\n",
              "0              1      Nancy       Rob\n",
              "1              2        Ram    Kapoor\n",
              "2              3      Shyam    Mangal\n",
              "3              4        Bob     Singh\n",
              "4              5       Alam    George\n",
              "0              6       Ausk       Rob\n",
              "1              7         Mr    Kapoor\n",
              "2              8    SHaider    Mangal\n",
              "3              9        Tim     Singh\n",
              "4             10       Cook    George"
            ]
          },
          "metadata": {}
        }
      ]
    },
    {
      "cell_type": "code",
      "source": "bank_df_all = pd.merge(bank_df_all, bank_df_salary, on = 'Bank Client ID')\nbank_df_all",
      "metadata": {},
      "execution_count": 103,
      "outputs": [
        {
          "execution_count": 103,
          "output_type": "execute_result",
          "data": {
            "text/html": [
              "<div>\n",
              "<style scoped>\n",
              "    .dataframe tbody tr th:only-of-type {\n",
              "        vertical-align: middle;\n",
              "    }\n",
              "\n",
              "    .dataframe tbody tr th {\n",
              "        vertical-align: top;\n",
              "    }\n",
              "\n",
              "    .dataframe thead th {\n",
              "        text-align: right;\n",
              "    }\n",
              "</style>\n",
              "<table border=\"1\" class=\"dataframe\">\n",
              "  <thead>\n",
              "    <tr style=\"text-align: right;\">\n",
              "      <th></th>\n",
              "      <th>Bank Client ID</th>\n",
              "      <th>First Name</th>\n",
              "      <th>Last Name</th>\n",
              "      <th>Annual Salary [$/year]</th>\n",
              "    </tr>\n",
              "  </thead>\n",
              "  <tbody>\n",
              "    <tr>\n",
              "      <th>0</th>\n",
              "      <td>1</td>\n",
              "      <td>Nancy</td>\n",
              "      <td>Rob</td>\n",
              "      <td>23000</td>\n",
              "    </tr>\n",
              "    <tr>\n",
              "      <th>1</th>\n",
              "      <td>2</td>\n",
              "      <td>Ram</td>\n",
              "      <td>Kapoor</td>\n",
              "      <td>12000</td>\n",
              "    </tr>\n",
              "    <tr>\n",
              "      <th>2</th>\n",
              "      <td>3</td>\n",
              "      <td>Shyam</td>\n",
              "      <td>Mangal</td>\n",
              "      <td>45000</td>\n",
              "    </tr>\n",
              "    <tr>\n",
              "      <th>3</th>\n",
              "      <td>4</td>\n",
              "      <td>Bob</td>\n",
              "      <td>Singh</td>\n",
              "      <td>23000</td>\n",
              "    </tr>\n",
              "    <tr>\n",
              "      <th>4</th>\n",
              "      <td>5</td>\n",
              "      <td>Alam</td>\n",
              "      <td>George</td>\n",
              "      <td>12389</td>\n",
              "    </tr>\n",
              "    <tr>\n",
              "      <th>5</th>\n",
              "      <td>6</td>\n",
              "      <td>Ausk</td>\n",
              "      <td>Rob</td>\n",
              "      <td>67000</td>\n",
              "    </tr>\n",
              "    <tr>\n",
              "      <th>6</th>\n",
              "      <td>7</td>\n",
              "      <td>Mr</td>\n",
              "      <td>Kapoor</td>\n",
              "      <td>45673</td>\n",
              "    </tr>\n",
              "    <tr>\n",
              "      <th>7</th>\n",
              "      <td>8</td>\n",
              "      <td>SHaider</td>\n",
              "      <td>Mangal</td>\n",
              "      <td>45367</td>\n",
              "    </tr>\n",
              "    <tr>\n",
              "      <th>8</th>\n",
              "      <td>9</td>\n",
              "      <td>Tim</td>\n",
              "      <td>Singh</td>\n",
              "      <td>99000</td>\n",
              "    </tr>\n",
              "    <tr>\n",
              "      <th>9</th>\n",
              "      <td>10</td>\n",
              "      <td>Cook</td>\n",
              "      <td>George</td>\n",
              "      <td>123000</td>\n",
              "    </tr>\n",
              "  </tbody>\n",
              "</table>\n",
              "</div>"
            ],
            "text/plain": [
              "  Bank Client ID First Name Last Name  Annual Salary [$/year]\n",
              "0              1      Nancy       Rob                   23000\n",
              "1              2        Ram    Kapoor                   12000\n",
              "2              3      Shyam    Mangal                   45000\n",
              "3              4        Bob     Singh                   23000\n",
              "4              5       Alam    George                   12389\n",
              "5              6       Ausk       Rob                   67000\n",
              "6              7         Mr    Kapoor                   45673\n",
              "7              8    SHaider    Mangal                   45367\n",
              "8              9        Tim     Singh                   99000\n",
              "9             10       Cook    George                  123000"
            ]
          },
          "metadata": {}
        }
      ]
    },
    {
      "cell_type": "code",
      "source": "",
      "metadata": {},
      "execution_count": null,
      "outputs": []
    },
    {
      "cell_type": "code",
      "source": "new_client = {'Bank Client ID': ['11'],\n             'First Name': ['Ryan'],\n             'Last Name': ['Ship'],\n             'Annual Salary [$/year]': [7600]}\nnew_client_df = pd.DataFrame(new_client, columns=['Bank Client ID','First Name','Last Name','Annual Salary [$/year]'])\nnew_client_df",
      "metadata": {},
      "execution_count": null,
      "outputs": [
        {
          "execution_count": 105,
          "output_type": "execute_result",
          "data": {
            "text/html": [
              "<div>\n",
              "<style scoped>\n",
              "    .dataframe tbody tr th:only-of-type {\n",
              "        vertical-align: middle;\n",
              "    }\n",
              "\n",
              "    .dataframe tbody tr th {\n",
              "        vertical-align: top;\n",
              "    }\n",
              "\n",
              "    .dataframe thead th {\n",
              "        text-align: right;\n",
              "    }\n",
              "</style>\n",
              "<table border=\"1\" class=\"dataframe\">\n",
              "  <thead>\n",
              "    <tr style=\"text-align: right;\">\n",
              "      <th></th>\n",
              "      <th>Bank Client ID</th>\n",
              "      <th>First Name</th>\n",
              "      <th>Last Name</th>\n",
              "      <th>Annual Salary [$/year]</th>\n",
              "    </tr>\n",
              "  </thead>\n",
              "  <tbody>\n",
              "    <tr>\n",
              "      <th>0</th>\n",
              "      <td>11</td>\n",
              "      <td>Ryan</td>\n",
              "      <td>Ship</td>\n",
              "      <td>7600</td>\n",
              "    </tr>\n",
              "  </tbody>\n",
              "</table>\n",
              "</div>"
            ],
            "text/plain": [
              "  Bank Client ID First Name Last Name  Annual Salary [$/year]\n",
              "0             11       Ryan      Ship                    7600"
            ]
          },
          "metadata": {}
        }
      ]
    },
    {
      "cell_type": "code",
      "source": "new_df =pd.concat([bank_df_all,new_client_df])\nnew_df",
      "metadata": {},
      "execution_count": null,
      "outputs": [
        {
          "execution_count": 106,
          "output_type": "execute_result",
          "data": {
            "text/html": [
              "<div>\n",
              "<style scoped>\n",
              "    .dataframe tbody tr th:only-of-type {\n",
              "        vertical-align: middle;\n",
              "    }\n",
              "\n",
              "    .dataframe tbody tr th {\n",
              "        vertical-align: top;\n",
              "    }\n",
              "\n",
              "    .dataframe thead th {\n",
              "        text-align: right;\n",
              "    }\n",
              "</style>\n",
              "<table border=\"1\" class=\"dataframe\">\n",
              "  <thead>\n",
              "    <tr style=\"text-align: right;\">\n",
              "      <th></th>\n",
              "      <th>Bank Client ID</th>\n",
              "      <th>First Name</th>\n",
              "      <th>Last Name</th>\n",
              "      <th>Annual Salary [$/year]</th>\n",
              "    </tr>\n",
              "  </thead>\n",
              "  <tbody>\n",
              "    <tr>\n",
              "      <th>0</th>\n",
              "      <td>1</td>\n",
              "      <td>Nancy</td>\n",
              "      <td>Rob</td>\n",
              "      <td>23000</td>\n",
              "    </tr>\n",
              "    <tr>\n",
              "      <th>1</th>\n",
              "      <td>2</td>\n",
              "      <td>Ram</td>\n",
              "      <td>Kapoor</td>\n",
              "      <td>12000</td>\n",
              "    </tr>\n",
              "    <tr>\n",
              "      <th>2</th>\n",
              "      <td>3</td>\n",
              "      <td>Shyam</td>\n",
              "      <td>Mangal</td>\n",
              "      <td>45000</td>\n",
              "    </tr>\n",
              "    <tr>\n",
              "      <th>3</th>\n",
              "      <td>4</td>\n",
              "      <td>Bob</td>\n",
              "      <td>Singh</td>\n",
              "      <td>23000</td>\n",
              "    </tr>\n",
              "    <tr>\n",
              "      <th>4</th>\n",
              "      <td>5</td>\n",
              "      <td>Alam</td>\n",
              "      <td>George</td>\n",
              "      <td>12389</td>\n",
              "    </tr>\n",
              "    <tr>\n",
              "      <th>5</th>\n",
              "      <td>6</td>\n",
              "      <td>Ausk</td>\n",
              "      <td>Rob</td>\n",
              "      <td>67000</td>\n",
              "    </tr>\n",
              "    <tr>\n",
              "      <th>6</th>\n",
              "      <td>7</td>\n",
              "      <td>Mr</td>\n",
              "      <td>Kapoor</td>\n",
              "      <td>45673</td>\n",
              "    </tr>\n",
              "    <tr>\n",
              "      <th>7</th>\n",
              "      <td>8</td>\n",
              "      <td>SHaider</td>\n",
              "      <td>Mangal</td>\n",
              "      <td>45367</td>\n",
              "    </tr>\n",
              "    <tr>\n",
              "      <th>8</th>\n",
              "      <td>9</td>\n",
              "      <td>Tim</td>\n",
              "      <td>Singh</td>\n",
              "      <td>99000</td>\n",
              "    </tr>\n",
              "    <tr>\n",
              "      <th>9</th>\n",
              "      <td>10</td>\n",
              "      <td>Cook</td>\n",
              "      <td>George</td>\n",
              "      <td>123000</td>\n",
              "    </tr>\n",
              "    <tr>\n",
              "      <th>0</th>\n",
              "      <td>11</td>\n",
              "      <td>Ryan</td>\n",
              "      <td>Ship</td>\n",
              "      <td>7600</td>\n",
              "    </tr>\n",
              "  </tbody>\n",
              "</table>\n",
              "</div>"
            ],
            "text/plain": [
              "  Bank Client ID First Name Last Name  Annual Salary [$/year]\n",
              "0              1      Nancy       Rob                   23000\n",
              "1              2        Ram    Kapoor                   12000\n",
              "2              3      Shyam    Mangal                   45000\n",
              "3              4        Bob     Singh                   23000\n",
              "4              5       Alam    George                   12389\n",
              "5              6       Ausk       Rob                   67000\n",
              "6              7         Mr    Kapoor                   45673\n",
              "7              8    SHaider    Mangal                   45367\n",
              "8              9        Tim     Singh                   99000\n",
              "9             10       Cook    George                  123000\n",
              "0             11       Ryan      Ship                    7600"
            ]
          },
          "metadata": {}
        }
      ]
    }
  ]
}